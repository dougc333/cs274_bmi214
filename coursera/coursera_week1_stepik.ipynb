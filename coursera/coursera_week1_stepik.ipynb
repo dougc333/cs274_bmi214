{
 "cells": [
  {
   "cell_type": "markdown",
   "metadata": {},
   "source": [
    "Proteins are not only created from the central dogma rule which states DNA translated to RNA transcribe to Proteins via AA \n",
    "assembly. Antibiotics and bacterial genes can make non ribosomal proteins! Nonribosomal peptides are in lower level organisms \n",
    "like bacteria and fungi AND in higher level organisms like nudibranchs, but may be created by bacteria in nudibranchs. If not then\n",
    "there is a higher evolution step which is a common ancestor. NRPs are made by nonribosomal peptide synthetases which do \n",
    "NOT require mRNA! No codons here. Each synthetase can create one peptide. NRPs are similar chemically, they have cyclic or branched\n",
    "structures and contain non-proteinogenic amino acids including D-amino acids which have N-methyl and N-formyl groups or are \n",
    "glycosylated, acylated, halogentated or hydroxylated. \n",
    "\n",
    "<img src=\"images/w1_1a.png\">\n",
    "<img src=\"images/w1_1b.png\">\n",
    "<img src=\"images/w1_1c.png\">\n",
    "<img src=\"images/w1_1d.png\">\n",
    "<img src=\"images/w1_1e.png\">\n",
    "<img src=\"images/w1_1f.png\">\n"
   ]
  },
  {
   "cell_type": "markdown",
   "metadata": {},
   "source": [
    "<img src=\"images/w1_2a.png\">\n",
    "<img src=\"images/w1_2b.png\">\n",
    "<img src=\"images/w1_2c.png\">\n",
    "<img src=\"images/w1_2d.png\">\n",
    "<img src=\"images/w1_2e.png\">\n",
    "<img src=\"images/w1_2f.png\">\n",
    "<img src=\"images/w1_2g.png\">\n",
    "<img src=\"images/w1_2h.png\">\n"
   ]
  },
  {
   "cell_type": "markdown",
   "metadata": {},
   "source": [
    "<img src=\"images/w1_3a.png\">\n",
    "<img src=\"images/w1_3b.png\">\n",
    "<img src=\"images/w1_3c.png\">\n",
    "<img src=\"images/w1_3d.png\">\n",
    "Fill in xxxxxxxxxxx\n",
    "<img src=\"images/w1_3d_a.png\">\n",
    "To find a longer path than 23 I would work backwards from the final state and pick the biggest, get 2->5->2->3->7->6->3->1 =29\n",
    "<img src=\"images/w1_3e.png\">\n",
    "<img src=\"images/w1_3f.png\">\n",
    "largest on rigth is 4->1->7\n",
    "<img src=\"images/w1_3g.png\">\n",
    "<img src=\"images/w1_3h.png\">\n",
    "<h6>END of 1.3 Lesson here is longest path problem same as matching individual letters for adding gap sequence alignment. \n",
    "Longest path in DAG start from destination and do greedy vs. starting from source. Add diagonal rows. \n",
    "And add another array to represent the path from source in upper left to destination bottom right. <h6>"
   ]
  },
  {
   "cell_type": "markdown",
   "metadata": {},
   "source": [
    "<img src=\"images/w1_4a.png\">\n",
    "<img src=\"images/w1_4b.png\">\n",
    "<img src=\"images/w1_4c.png\">\n",
    "<h6>End of 1.4, create a 2d array with num columns = first sequence and num rows = second sequecne. Add a third\n",
    "array for red(match), blue(insert, add gap to top sequence), green(delete, add gap to bottom sequence), purple(mismatch), </h6>"
   ]
  },
  {
   "cell_type": "markdown",
   "metadata": {},
   "source": [
    "<h6>ATGTTA-T--A</h6>\n",
    "<h6>--AT-CGTCC-</h6>\n"
   ]
  },
  {
   "cell_type": "markdown",
   "metadata": {},
   "source": [
    "<img src=\"images/w1_4d.png\">\n",
    "<h6>Wow! what a great idea! You mark in red all the matches between the 2 sequences since these are matches\n",
    "then you have the diagonal mismatch paths and the down and right paths. Now need to take an aside and discuss\n",
    "dynamic programming to eliminate recursion from above longest path problem! </h6>"
   ]
  },
  {
   "cell_type": "markdown",
   "metadata": {},
   "source": [
    "<h6>Dynamic Programming</h6>\n",
    "<img src=\"images/w1_5a.png\" >\n",
    "<img src=\"images/w1_5b.png\" >\n",
    "<img src=\"images/w1_5c.png\" >\n",
    "<img src=\"images/w1_5d.png\" >\n",
    "<img src=\"images/w1_5e.png\" >\n",
    "<img src=\"images/w1_5f.png\" >\n",
    "<img src=\"images/w1_5g.png\" >\n",
    "\n",
    "<img src=\"images/w1_5h.png\" >\n",
    "<h6> 13 14 15 16 17 18 19 20 21 22</h6>\n",
    "<h6> 3   3  3  4  4  4  4  4  5   6</h6>\n",
    "\n",
    "<img src=\"images/w1_5i.png\" >\n",
    "<img src=\"images/w1_5j.png\" >\n",
    "<img src=\"images/w1_5k.png\" >\n",
    "<img src=\"images/w1_5l.png\" >\n",
    "<img src=\"images/w1_5m.png\" >\n"
   ]
  },
  {
   "cell_type": "markdown",
   "metadata": {},
   "source": [
    "<img src=\"images/w1_6a.png\" >\n",
    "<img src=\"images/w1_6b.png\" >\n",
    "<img src=\"images/w1_6c.png\" >\n",
    "<img src=\"images/w1_6d.png\" >\n",
    "<img src=\"images/w1_6e.png\" >\n",
    "<img src=\"images/w1_6f.png\" >\n",
    "<img src=\"images/w1_6g.png\" >\n",
    "<img src=\"images/w1_6h.png\" >\n",
    "<img src=\"images/w1_6i.png\" >\n",
    "<img src=\"images/w1_6j.png\" ><img src=\"images/w1_6k.png\" >"
   ]
  },
  {
   "cell_type": "markdown",
   "metadata": {},
   "source": [
    "<img src=\"images/w1_7a.png\" >\n",
    "<img src=\"images/w1_7b.png\" >\n",
    "<img src=\"images/w1_7c.png\" >\n",
    "<img src=\"images/w1_7d.png\" >\n",
    "<img src=\"images/w1_7e.png\" >\n",
    "<img src=\"images/w1_7f.png\" >\n",
    "<img src=\"images/w1_7g.png\" >\n",
    "<img src=\"images/w1_7h.png\" >\n",
    "<img src=\"images/w1_7i.png\" >\n",
    "<img src=\"images/w1_7j.png\" >\n",
    "<img src=\"images/w1_7k.png\" >\n",
    "<img src=\"images/w1_7l.png\" >\n",
    "\n",
    "\n",
    "\n",
    "\n",
    "\n",
    "\n",
    "\n"
   ]
  },
  {
   "cell_type": "markdown",
   "metadata": {},
   "source": [
    "<img src=\"images/w1_8a.png\" >\n",
    "<img src=\"images/w1_8b.png\" >\n",
    "<img src=\"images/w1_8c.png\" >\n",
    "<img src=\"images/w1_8d.png\" >\n",
    "<img src=\"images/w1_8e.png\" >\n",
    "<img src=\"images/w1_8f.png\" >\n",
    "<img src=\"images/w1_8g.png\" >\n",
    "<img src=\"images/w1_8h.png\" >\n",
    "\n",
    "\n",
    "\n",
    "\n",
    "\n",
    "\n",
    "\n",
    "\n"
   ]
  },
  {
   "cell_type": "code",
   "execution_count": null,
   "metadata": {},
   "outputs": [],
   "source": []
  }
 ],
 "metadata": {
  "kernelspec": {
   "display_name": "Python 3",
   "language": "python",
   "name": "python3"
  },
  "language_info": {
   "codemirror_mode": {
    "name": "ipython",
    "version": 3
   },
   "file_extension": ".py",
   "mimetype": "text/x-python",
   "name": "python",
   "nbconvert_exporter": "python",
   "pygments_lexer": "ipython3",
   "version": "3.7.3"
  }
 },
 "nbformat": 4,
 "nbformat_minor": 2
}
