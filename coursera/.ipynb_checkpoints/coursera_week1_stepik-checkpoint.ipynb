{
 "cells": [
  {
   "cell_type": "markdown",
   "metadata": {},
   "source": [
    "Proteins are not only created from the central dogma rule which states DNA translated to RNA transcribe to Proteins via AA \n",
    "assembly. Antibiotics and bacterial genes can make non ribosomal proteins! Nonribosomal peptides are in lower level organisms \n",
    "like bacteria and fungi AND in higher level organisms like nudibranchs, but may be created by bacteria in nudibranchs. If not then\n",
    "there is a higher evolution step which is a common ancestor. NRPs are made by nonribosomal peptide synthetases which do \n",
    "NOT require mRNA! No codons here. Each synthetase can create one peptide. NRPs are similar chemically, they have cyclic or branched\n",
    "structures and contain non-proteinogenic amino acids including D-amino acids which have N-methyl and N-formyl groups or are \n",
    "glycosylated, acylated, halogentated or hydroxylated. \n",
    "\n",
    "<img src=\"images/w1_1a.png\">\n",
    "<img src=\"images/w1_1b.png\">\n",
    "<img src=\"images/w1_1c.png\">\n",
    "<img src=\"images/w1_1d.png\">\n",
    "<img src=\"images/w1_1e.png\">\n",
    "<img src=\"images/w1_1f.png\">\n"
   ]
  },
  {
   "cell_type": "markdown",
   "metadata": {},
   "source": [
    "<img src=\"images/w1_2a.png\">\n",
    "<img src=\"images/w1_2b.png\">\n",
    "<img src=\"images/w1_2c.png\">\n",
    "<img src=\"images/w1_2d.png\">\n",
    "<img src=\"images/w1_2e.png\">\n",
    "<img src=\"images/w1_2f.png\">\n",
    "<img src=\"images/w1_2g.png\">\n",
    "<img src=\"images/w1_2h.png\">\n"
   ]
  },
  {
   "cell_type": "markdown",
   "metadata": {},
   "source": [
    "<img src=\"images/w1_3a.png\">\n",
    "<img src=\"images/w1_3b.png\">\n",
    "<img src=\"images/w1_3c.png\">\n",
    "<img src=\"images/w1_3d.png\">\n",
    "<img src=\"images/w1_3e.png\">\n",
    "<img src=\"images/w1_3f.png\">\n",
    "<img src=\"images/w1_3g.png\">\n",
    "<img src=\"images/w1_3h.png\">\n"
   ]
  },
  {
   "cell_type": "markdown",
   "metadata": {},
   "source": [
    "<img src=\"images/w1_4a.png\">\n",
    "<img src=\"images/w1_4b.png\">\n",
    "<img src=\"images/w1_4c.png\">\n"
   ]
  },
  {
   "cell_type": "code",
   "execution_count": null,
   "metadata": {},
   "outputs": [],
   "source": [
    "ATGTTA-T--A\n",
    "--AT-CGTCC-\n"
   ]
  },
  {
   "cell_type": "markdown",
   "metadata": {},
   "source": [
    "<img src=\"images/w1_4d.png\">"
   ]
  },
  {
   "cell_type": "code",
   "execution_count": null,
   "metadata": {},
   "outputs": [],
   "source": [
    "<h6>Dynamic Programming</h6>\n"
   ]
  }
 ],
 "metadata": {
  "kernelspec": {
   "display_name": "Python 3",
   "language": "python",
   "name": "python3"
  },
  "language_info": {
   "codemirror_mode": {
    "name": "ipython",
    "version": 3
   },
   "file_extension": ".py",
   "mimetype": "text/x-python",
   "name": "python",
   "nbconvert_exporter": "python",
   "pygments_lexer": "ipython3",
   "version": "3.7.3"
  }
 },
 "nbformat": 4,
 "nbformat_minor": 2
}
