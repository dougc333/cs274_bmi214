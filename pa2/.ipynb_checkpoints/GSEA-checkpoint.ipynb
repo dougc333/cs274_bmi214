{
 "cells": [
  {
   "cell_type": "code",
   "execution_count": 2,
   "metadata": {},
   "outputs": [
    {
     "name": "stdout",
     "output_type": "stream",
     "text": [
      "   GSM629722  0\n",
      "0  GSM629724  0\n",
      "1  GSM629725  0\n",
      "2  GSM629727  0\n",
      "3  GSM629729  0\n",
      "4  GSM629735  0\n",
      "num entries: 12\n",
      "GSM629724\n",
      "<class 'int'>\n",
      "0\n",
      "GSM629725\n",
      "<class 'int'>\n",
      "0\n",
      "GSM629727\n",
      "<class 'int'>\n",
      "0\n",
      "GSM629729\n",
      "<class 'int'>\n",
      "0\n",
      "GSM629735\n",
      "<class 'int'>\n",
      "0\n",
      "GSM629719\n",
      "<class 'int'>\n",
      "1\n",
      "GSM629721\n",
      "<class 'int'>\n",
      "1\n",
      "GSM629723\n",
      "<class 'int'>\n",
      "1\n",
      "GSM629726\n",
      "<class 'int'>\n",
      "1\n",
      "GSM629728\n",
      "<class 'int'>\n",
      "1\n",
      "GSM629730\n",
      "<class 'int'>\n",
      "1\n",
      "GSM629732\n",
      "<class 'int'>\n",
      "1\n",
      "{'GSM629724': 0, 'GSM629725': 0, 'GSM629727': 0, 'GSM629729': 0, 'GSM629735': 0, 'GSM629719': 1, 'GSM629721': 1, 'GSM629723': 1, 'GSM629726': 1, 'GSM629728': 1, 'GSM629730': 1, 'GSM629732': 1}\n"
     ]
    }
   ],
   "source": [
    "import numpy as np\n",
    "import pandas as pd\n",
    "\n",
    "\n",
    "f = pd.read_csv(\"GSE25628_samples.txt\",sep='\\t')\n",
    "samp_data = f.to_numpy()\n",
    "print(f.head())\n",
    "print(\"num entries:\",len(samp_data))\n",
    "sample_dict = {}\n",
    "for idx in range(0,len(samp_data)):\n",
    "    print(samp_data[idx][0])\n",
    "    print(type(samp_data[idx][1]))\n",
    "    print(samp_data[idx][1])\n",
    "    sample_dict[samp_data[idx][0]]=samp_data[idx][1]\n",
    "print(sample_dict)"
   ]
  },
  {
   "cell_type": "code",
   "execution_count": 5,
   "metadata": {},
   "outputs": [
    {
     "name": "stdout",
     "output_type": "stream",
     "text": [
      "{'GSM629722': '0', 'GSM629724': '0', 'GSM629725': '0', 'GSM629727': '0', 'GSM629729': '0', 'GSM629735': '0', 'GSM629719': '1', 'GSM629721': '1', 'GSM629723': '1', 'GSM629726': '1', 'GSM629728': '1', 'GSM629730': '1', 'GSM629732': '1'}\n",
      "healthy: ['GSM629722', 'GSM629724', 'GSM629725', 'GSM629727', 'GSM629729', 'GSM629735'] disease: ['GSM629719', 'GSM629721', 'GSM629723', 'GSM629726', 'GSM629728', 'GSM629730', 'GSM629732']\n"
     ]
    }
   ],
   "source": [
    "def \n",
    "\n",
    "\n",
    "def load_samples(file_name):\n",
    "    d = {}\n",
    "    with open(file_name, \"r\") as fh:\n",
    "        lines = fh.readlines()\n",
    "        for line in lines:\n",
    "            tokens = line.split()\n",
    "            d[tokens[0]] = tokens[1]\n",
    "    #print(\"d:\",d)\n",
    "    return d\n",
    "\n",
    "samp = load_samples(\"GSE25628_samples.txt\")\n",
    "print(samp)\n",
    "\n",
    "def sep_healthy_diseased(d):\n",
    "    healthy=[]\n",
    "    disease=[]\n",
    "    for x in d.keys():\n",
    "        if d[x]=='1':\n",
    "            disease.append(x)\n",
    "        elif(d[x]=='0'):\n",
    "            healthy.append(x)\n",
    "    return healthy,disease\n",
    "healthy,disease=sep_healthy_diseased(samp)\n",
    "print(\"healthy:\",healthy, \"disease:\",disease)\n",
    "\n",
    "def dataframe_split_healthy_disease(df,healthy,disease):\n",
    "    '''\n",
    "    input: list of healthy patients in healthy and list of disease patients in disease, pandas dataframe of data in df\n",
    "    output: 2 dataframe, df_healthy where columns are healthy patients and rows are genes, df_disease\n",
    "    '''\n",
    "    df_healthy=df[healthy]\n",
    "    df_disease=df[disease]\n",
    "    print(df_healthy.head())\n",
    "    print(df_disease.head())\n",
    "    return df_healthy, df_disease"
   ]
  },
  {
   "cell_type": "code",
   "execution_count": null,
   "metadata": {},
   "outputs": [],
   "source": [
    "\n",
    "\n",
    "\n",
    "with open(\"c2.cp.kegg.v6.2.symbols.filtered.gmt\",'r') as fh:\n",
    "    lines = fh.readlines()\n",
    "print(\"num lines:\",len(lines))\n",
    "gene_hist = {}\n",
    "for i in range(0,len(lines)):\n",
    "    #print(lines[i])\n",
    "    tokens = lines[i].split()\n",
    "    #print(\"pathway:\",tokens[0])\n",
    "    genes = tokens[2:]\n",
    "    #print(\"genes:\",tokens[2:])\n",
    "    for g in genes:\n",
    "        if g not in gene_hist:\n",
    "            gene_hist[g] = 1\n",
    "        else:\n",
    "            gene_hist[g] = gene_hist[g]+1\n",
    "print(\"len gene_hist\",len(gene_hist))\n",
    "print('num unique genes:',len(gene_hist.keys())) #4991"
   ]
  },
  {
   "cell_type": "code",
   "execution_count": null,
   "metadata": {},
   "outputs": [],
   "source": []
  },
  {
   "cell_type": "code",
   "execution_count": null,
   "metadata": {},
   "outputs": [],
   "source": []
  }
 ],
 "metadata": {
  "kernelspec": {
   "display_name": "Python 3",
   "language": "python",
   "name": "python3"
  },
  "language_info": {
   "codemirror_mode": {
    "name": "ipython",
    "version": 3
   },
   "file_extension": ".py",
   "mimetype": "text/x-python",
   "name": "python",
   "nbconvert_exporter": "python",
   "pygments_lexer": "ipython3",
   "version": "3.7.3"
  }
 },
 "nbformat": 4,
 "nbformat_minor": 2
}
