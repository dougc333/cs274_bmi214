{
 "cells": [
  {
   "cell_type": "code",
   "execution_count": 82,
   "metadata": {},
   "outputs": [
    {
     "name": "stdout",
     "output_type": "stream",
     "text": [
      "<class 'rdkit.Chem.rdmolfiles.SmilesMolSupplier'> <rdkit.Chem.rdmolfiles.SmilesMolSupplier object at 0x140daf068>\n",
      "<rdkit.Chem.rdchem.Mol object at 0x140da7670>\n",
      "<rdkit.DataStructs.cDataStructs.ExplicitBitVect object at 0x140da7850>\n",
      "0 0\n",
      "1 0\n",
      "2 0\n",
      "3 0\n",
      "4 0\n",
      "5 0\n",
      "6 0\n",
      "7 0\n",
      "8 0\n",
      "9 0\n",
      "10 0\n",
      "11 0\n",
      "12 0\n",
      "13 0\n",
      "14 1\n",
      "15 0\n",
      "16 0\n",
      "17 0\n",
      "18 0\n",
      "19 0\n",
      "20 0\n",
      "21 0\n",
      "22 0\n",
      "23 0\n",
      "24 0\n",
      "25 0\n",
      "26 0\n",
      "27 0\n",
      "28 0\n",
      "29 0\n",
      "30 0\n",
      "31 0\n",
      "32 0\n",
      "33 0\n",
      "34 0\n",
      "35 0\n",
      "36 1\n",
      "37 0\n",
      "38 0\n",
      "39 0\n",
      "40 0\n",
      "41 0\n",
      "42 0\n",
      "43 0\n",
      "44 0\n",
      "45 0\n",
      "46 0\n",
      "47 0\n",
      "48 0\n",
      "49 0\n",
      "50 0\n",
      "51 0\n",
      "52 0\n",
      "53 1\n",
      "54 1\n",
      "55 0\n",
      "56 0\n",
      "57 0\n",
      "58 0\n",
      "59 0\n",
      "60 0\n",
      "61 0\n",
      "62 0\n",
      "63 0\n",
      "64 0\n",
      "65 1\n",
      "66 0\n",
      "67 1\n",
      "68 0\n",
      "69 0\n",
      "70 0\n",
      "71 0\n",
      "72 0\n",
      "73 0\n",
      "74 1\n",
      "75 1\n",
      "76 0\n",
      "77 1\n",
      "78 0\n",
      "79 1\n",
      "80 1\n",
      "81 0\n",
      "82 1\n",
      "83 1\n",
      "84 1\n",
      "85 1\n",
      "86 0\n",
      "87 0\n",
      "88 1\n",
      "89 1\n",
      "90 1\n",
      "91 1\n",
      "92 1\n",
      "93 0\n",
      "94 0\n",
      "95 1\n",
      "96 1\n",
      "97 1\n",
      "98 0\n",
      "99 0\n",
      "100 1\n",
      "101 0\n",
      "102 0\n",
      "103 0\n",
      "104 1\n",
      "105 1\n",
      "106 0\n",
      "107 0\n",
      "108 0\n",
      "109 1\n",
      "110 1\n",
      "111 1\n",
      "112 0\n",
      "113 1\n",
      "114 1\n",
      "115 1\n",
      "116 0\n",
      "117 1\n",
      "118 1\n",
      "119 0\n",
      "120 1\n",
      "121 1\n",
      "122 1\n",
      "123 1\n",
      "124 1\n",
      "125 1\n",
      "126 0\n",
      "127 1\n",
      "128 1\n",
      "129 1\n",
      "130 1\n",
      "131 1\n",
      "132 1\n",
      "133 1\n",
      "134 0\n",
      "135 0\n",
      "136 1\n",
      "137 1\n",
      "138 1\n",
      "139 1\n",
      "140 1\n",
      "141 1\n",
      "142 1\n",
      "143 1\n",
      "144 0\n",
      "145 1\n",
      "146 1\n",
      "147 1\n",
      "148 1\n",
      "149 1\n",
      "150 1\n",
      "151 1\n",
      "152 1\n",
      "153 1\n",
      "154 1\n",
      "155 1\n",
      "156 1\n",
      "157 1\n",
      "158 1\n",
      "159 1\n",
      "160 1\n",
      "161 1\n",
      "162 1\n",
      "163 1\n",
      "164 1\n",
      "165 1\n",
      "166 0\n",
      "0 0\n",
      "1 0\n",
      "2 0\n",
      "3 0\n",
      "4 0\n",
      "5 0\n",
      "6 0\n",
      "7 0\n",
      "8 0\n",
      "9 0\n",
      "10 0\n",
      "11 0\n",
      "12 0\n",
      "13 0\n",
      "14 0\n",
      "15 0\n",
      "16 0\n",
      "17 0\n",
      "18 0\n",
      "19 0\n",
      "20 0\n",
      "21 0\n",
      "22 0\n",
      "23 0\n",
      "24 0\n",
      "25 0\n",
      "26 0\n",
      "27 0\n",
      "28 0\n",
      "29 0\n",
      "30 0\n",
      "31 0\n",
      "32 0\n",
      "33 0\n",
      "34 0\n",
      "35 0\n",
      "36 0\n",
      "37 0\n",
      "38 0\n",
      "39 0\n",
      "40 0\n",
      "41 0\n",
      "42 0\n",
      "43 0\n",
      "44 0\n",
      "45 0\n",
      "46 0\n",
      "47 0\n",
      "48 0\n",
      "49 0\n",
      "50 0\n",
      "51 0\n",
      "52 0\n",
      "53 0\n",
      "54 0\n",
      "55 0\n",
      "56 0\n",
      "57 0\n",
      "58 0\n",
      "59 0\n",
      "60 0\n",
      "61 0\n",
      "62 0\n",
      "63 0\n",
      "64 0\n",
      "65 0\n",
      "66 1\n",
      "67 0\n",
      "68 0\n",
      "69 0\n",
      "70 0\n",
      "71 0\n",
      "72 0\n",
      "73 0\n",
      "74 1\n",
      "75 0\n",
      "76 0\n",
      "77 0\n",
      "78 0\n",
      "79 0\n",
      "80 0\n",
      "81 0\n",
      "82 0\n",
      "83 0\n",
      "84 0\n",
      "85 1\n",
      "86 1\n",
      "87 0\n",
      "88 0\n",
      "89 0\n",
      "90 0\n",
      "91 0\n",
      "92 0\n",
      "93 1\n",
      "94 0\n",
      "95 0\n",
      "96 0\n",
      "97 0\n",
      "98 0\n",
      "99 0\n",
      "100 0\n",
      "101 0\n",
      "102 0\n",
      "103 0\n",
      "104 0\n",
      "105 0\n",
      "106 0\n",
      "107 0\n",
      "108 1\n",
      "109 0\n",
      "110 0\n",
      "111 1\n",
      "112 1\n",
      "113 0\n",
      "114 1\n",
      "115 1\n",
      "116 1\n",
      "117 0\n",
      "118 0\n",
      "119 0\n",
      "120 0\n",
      "121 0\n",
      "122 1\n",
      "123 0\n",
      "124 0\n",
      "125 1\n",
      "126 0\n",
      "127 0\n",
      "128 0\n",
      "129 1\n",
      "130 0\n",
      "131 0\n",
      "132 1\n",
      "133 0\n",
      "134 0\n",
      "135 0\n",
      "136 0\n",
      "137 0\n",
      "138 0\n",
      "139 0\n",
      "140 0\n",
      "141 1\n",
      "142 0\n",
      "143 0\n",
      "144 0\n",
      "145 1\n",
      "146 0\n",
      "147 0\n",
      "148 1\n",
      "149 1\n",
      "150 0\n",
      "151 0\n",
      "152 1\n",
      "153 0\n",
      "154 1\n",
      "155 1\n",
      "156 1\n",
      "157 0\n",
      "158 1\n",
      "159 0\n",
      "160 1\n",
      "161 1\n",
      "162 1\n",
      "163 1\n",
      "164 1\n",
      "165 1\n",
      "166 0\n",
      "[66, 74, 85, 86, 93, 108, 111, 112, 114, 115, 116, 122, 125, 129, 132, 141, 145, 148, 149, 152, 154, 155, 156, 158, 160, 161, 162, 163, 164, 165]\n"
     ]
    }
   ],
   "source": [
    "import rdkit\n",
    "from rdkit import Chem\n",
    "from rdkit.Chem import MACCSkeys\n",
    "\n",
    "#m1 = Chem.MolFromSmiles('Cc1ccccc1')\n",
    "suppl = Chem.SmilesMolSupplier('0138068378.smiles',delimiter='\\t',titleLine=False)\n",
    "print(type(suppl),suppl)\n",
    "m1 = Chem.MolFromSmiles('CC[C@H](C)[C@H](NC(=O)[C@H](CCC(=O)O)NC(=O)[C@H](CCC(=O)O)NC(=O)[C@H](Cc1ccccc1)NC(=O)[C@H](CC(=O)O)NC(=O)CNC(=O)[C@H](CC(=O)O)NC(=O)[C@H](CC(=O)N)NC(=O)[C@H](Cc2c[nH]cn2)NC(=O)[C@H](CO)NC(=O)[C@H](CCC(=O)N)NC(=O)[C@@H]3CCCN3C(=O)[C@H](CCCCN)NC(=O)[C@@H]4CCCN4C(=O)[C@@H](NC(=O)CNC(=O)[C@H](CCC(=O)O)NC(=O)CNC(=O)[C@@H](NC(=O)[C@@H](NC(=O)[C@@H]5CSSC[C@@H]6NC(=O)[C@@H](NC(=O)[C@H](CC(=O)N)NC(=O)[C@H](CO)NC(=O)CNC(=O)[C@H](CCC(=O)O)NC(=O)[C@H](CSSC[C@H](NC(=O)[C@H](CCCCN)NC(=O)[C@H](CC(=O)N)NC(=O)CNC(=O)[C@H](CCC(=O)N)NC(=O)CNC6=O)C(=O)N[C@@H]([C@@H](C)CC)C(=O)N[C@@H](CC(C)C)C(=O)NCC(=O)N[C@@H](CO)C(=O)N[C@@H](CC(=O)O)C(=O)NCC(=O)N[C@@H](CCC(=O)O)C(=O)N[C@@H](CCCCN)C(=O)N[C@@H](CC(=O)N)C(=O)N[C@@H](CCC(=O)N)C(=O)N5)NC(=O)[C@H](CC(C)C)NC(=O)[C@@H]7CSSC[C@H](NC(=O)[C@H](CC(=O)O)NC(=O)[C@@H](NC(=O)[C@H](Cc8ccc(O)cc8)NC(=O)[C@@H](NC(=O)[C@@H](N)CC(C)C)[C@@H](C)O)[C@@H](C)O)C(=O)N[C@@H]([C@@H](C)O)C(=O)N[C@@H](CCC(=O)O)C(=O)N[C@@H](CO)C(=O)NCC(=O)N[C@@H](CCC(=O)N)C(=O)N[C@@H](CC(=O)N)C(=O)N[C@@H](CC(C)C)C(=O)N7)C(C)C)C(C)C)[C@@H](C)O)[C@@H](C)O)C(=O)N9CCC[C@H]9C(=O)N[C@@H](CCC(=O)O)C(=O)N[C@@H](CCC(=O)O)C(=O)N[C@@H](Cc%10ccc(O)cc%10)C(=O)N[C@@H](CC(C)C)C(=O)N[C@@H](CCC(=O)N)C(=O)O')\n",
    "#rdkit.Chem.Fingerprints.FingerprintMols.GetRDKFingerprint(suppl)\n",
    "print(m1)\n",
    "\n",
    "fps=MACCSkeys.GenMACCSKeys(m1)\n",
    "print(fps)\n",
    "len(fps)\n",
    "for idx,x in enumerate(fps):\n",
    "    print(idx,x)\n",
    "#use the drugbank smiles. \n",
    "#DB00333,Methadone,66 74 85 93 96 108 111 112 114 115 116 122 129 132 141 148 149 152 154 155 156 158 160 161 162 164 165\n",
    "methadone = Chem.MolFromSmiles('CCC(=O)C(CC(C)N(C)C)(C1=CC=CC=C1)C1=CC=CC=C1')\n",
    "fps_methadone = MACCSkeys.GenMACCSKeys(methadone)\n",
    "methadone_index=[]\n",
    "for idx,x in enumerate(fps_methadone):\n",
    "    #print(idx,x)\n",
    "    if x==1:\n",
    "        methadone_index.append(idx)\n",
    "print(methadone_index)\n",
    "\n",
    "DB00333,Methadone,66 74 85 93 96 108 111 112 114 115 116 122 129 132 141 148 149 152 154 155 156 158 160 161 162 164 165\n",
    "\n",
    "[66, 74, 85, 86, 93, 108, 111, 112, 114, 115, 116, 122, 125, 129, 132, 141, 145, 148, 149, 152, 154, 155, 156, 158, 160, 161, 162, 163, 164, 165]"
   ]
  },
  {
   "cell_type": "code",
   "execution_count": 121,
   "metadata": {},
   "outputs": [
    {
     "name": "stdout",
     "output_type": "stream",
     "text": [
      "<class 'pandas.core.frame.DataFrame'>\n",
      "1139556\n",
      "32914 1106642\n",
      "           0        1         2  3\n",
      "0    DB00001  DB00006  0.810127  1\n",
      "70   DB00001  DB00170  0.153846  1\n",
      "156  DB00001  DB00278  0.591837  1\n",
      "439  DB00001  DB00641  0.352941  1\n",
      "470  DB00001  DB00682  0.324675  1\n",
      "-----\n",
      "         0        1         2  3\n",
      "1  DB00001  DB00007  0.835443  0\n",
      "2  DB00001  DB00010  0.691358  0\n",
      "3  DB00001  DB00014  0.750000  0\n",
      "4  DB00001  DB00017  0.898734  0\n",
      "5  DB00001  DB00035  0.784810  0\n"
     ]
    },
    {
     "ename": "AttributeError",
     "evalue": "'PlotAccessor' object has no attribute 'show'",
     "output_type": "error",
     "traceback": [
      "\u001b[0;31m---------------------------------------------------------------------------\u001b[0m",
      "\u001b[0;31mAttributeError\u001b[0m                            Traceback (most recent call last)",
      "\u001b[0;32m<ipython-input-121-0d86018b8e62>\u001b[0m in \u001b[0;36m<module>\u001b[0;34m\u001b[0m\n\u001b[1;32m     15\u001b[0m \u001b[0;34m\u001b[0m\u001b[0m\n\u001b[1;32m     16\u001b[0m \u001b[0mdf_match\u001b[0m\u001b[0;34m[\u001b[0m\u001b[0;36m2\u001b[0m\u001b[0;34m]\u001b[0m\u001b[0;34m.\u001b[0m\u001b[0mplot\u001b[0m\u001b[0;34m.\u001b[0m\u001b[0mhist\u001b[0m\u001b[0;34m(\u001b[0m\u001b[0mbins\u001b[0m\u001b[0;34m=\u001b[0m\u001b[0;36m30\u001b[0m\u001b[0;34m)\u001b[0m\u001b[0;34m\u001b[0m\u001b[0;34m\u001b[0m\u001b[0m\n\u001b[0;32m---> 17\u001b[0;31m \u001b[0mdf_match\u001b[0m\u001b[0;34m.\u001b[0m\u001b[0mplot\u001b[0m\u001b[0;34m.\u001b[0m\u001b[0mshow\u001b[0m\u001b[0;34m(\u001b[0m\u001b[0;34m)\u001b[0m\u001b[0;34m\u001b[0m\u001b[0;34m\u001b[0m\u001b[0m\n\u001b[0m",
      "\u001b[0;31mAttributeError\u001b[0m: 'PlotAccessor' object has no attribute 'show'"
     ]
    },
    {
     "data": {
      "image/png": "[encoded data removed]",
      "text/plain": [
       "<Figure size 432x288 with 1 Axes>"
      ]
     },
     "metadata": {
      "needs_background": "light"
     },
     "output_type": "display_data"
    }
   ],
   "source": [
    "import pandas as pd\n",
    "import matplotlib.pyplot as plt\n",
    "\n",
    "df_hist = pd.read_csv(\"tc.csv\",header=None)\n",
    "df_hist.head()\n",
    "print(type(df_hist[[3]]))\n",
    "print(len(df_hist[[3]]))\n",
    "df_match = df_hist[df_hist[3]==1]\n",
    "df_nomatch = df_hist[df_hist[3]==0]\n",
    "print(len(df_match),len(df_nomatch))\n",
    "print(df_match.head())\n",
    "print(\"-----\")\n",
    "print(df_nomatch.head())\n",
    "#df_match=pandas.Data.iloc(columns=['1'])\n",
    "\n",
    "df_match[2].plot.hist(bins=30)\n",
    "df_match.plot.show()"
   ]
  },
  {
   "cell_type": "code",
   "execution_count": 128,
   "metadata": {},
   "outputs": [
    {
     "data": {
      "text/plain": [
       "<matplotlib.axes._subplots.AxesSubplot at 0x1306e8a20>"
      ]
     },
     "execution_count": 128,
     "metadata": {},
     "output_type": "execute_result"
    },
    {
     "data": {
      "image/png": "[encoded data removed]",
      "text/plain": [
       "<Figure size 432x288 with 1 Axes>"
      ]
     },
     "metadata": {
      "needs_background": "light"
     },
     "output_type": "display_data"
    }
   ],
   "source": [
    "df_hist[2].plot.hist(bins=30)\n"
   ]
  },
  {
   "cell_type": "code",
   "execution_count": 122,
   "metadata": {},
   "outputs": [
    {
     "ename": "AttributeError",
     "evalue": "'PlotAccessor' object has no attribute 'show'",
     "output_type": "error",
     "traceback": [
      "\u001b[0;31m---------------------------------------------------------------------------\u001b[0m",
      "\u001b[0;31mAttributeError\u001b[0m                            Traceback (most recent call last)",
      "\u001b[0;32m<ipython-input-122-f951b1fd635e>\u001b[0m in \u001b[0;36m<module>\u001b[0;34m\u001b[0m\n\u001b[1;32m      1\u001b[0m \u001b[0mdf_nomatch\u001b[0m\u001b[0;34m[\u001b[0m\u001b[0;36m2\u001b[0m\u001b[0;34m]\u001b[0m\u001b[0;34m.\u001b[0m\u001b[0mplot\u001b[0m\u001b[0;34m.\u001b[0m\u001b[0mhist\u001b[0m\u001b[0;34m(\u001b[0m\u001b[0mbins\u001b[0m\u001b[0;34m=\u001b[0m\u001b[0;36m30\u001b[0m\u001b[0;34m)\u001b[0m\u001b[0;34m\u001b[0m\u001b[0;34m\u001b[0m\u001b[0m\n\u001b[0;32m----> 2\u001b[0;31m \u001b[0mdf_nomatch\u001b[0m\u001b[0;34m.\u001b[0m\u001b[0mplot\u001b[0m\u001b[0;34m.\u001b[0m\u001b[0mshow\u001b[0m\u001b[0;34m(\u001b[0m\u001b[0;34m)\u001b[0m\u001b[0;34m\u001b[0m\u001b[0;34m\u001b[0m\u001b[0m\n\u001b[0m",
      "\u001b[0;31mAttributeError\u001b[0m: 'PlotAccessor' object has no attribute 'show'"
     ]
    },
    {
     "data": {
      "image/png": "[encoded data removed]",
      "text/plain": [
       "<Figure size 432x288 with 1 Axes>"
      ]
     },
     "metadata": {
      "needs_background": "light"
     },
     "output_type": "display_data"
    }
   ],
   "source": [
    "df_nomatch[2].plot.hist(bins=30)\n",
    "df_nomatch.plot.show()"
   ]
  },
  {
   "cell_type": "code",
   "execution_count": 1,
   "metadata": {},
   "outputs": [
    {
     "name": "stdout",
     "output_type": "stream",
     "text": [
      "     db_id generic_name                                              maccs\n",
      "0  DB00001    Lepirudin  8 11 14 36 53 54 65 67 74 75 77 79 80 82 84 85...\n",
      "1  DB00006  Bivalirudin  8 11 25 43 53 54 74 75 77 78 79 80 82 84 85 90...\n",
      "2  DB00007   Leuprolide  8 11 25 43 53 54 65 74 75 77 78 79 80 82 84 85...\n",
      "3  DB00010   Sermorelin  25 43 53 54 74 77 78 79 80 82 84 88 89 90 91 9...\n",
      "4  DB00014    Goserelin  8 11 25 37 43 52 53 54 65 66 68 69 74 75 77 78...\n",
      "first numpy row: ['DB00001' 'Lepirudin'\n",
      " '8 11 14 36 53 54 65 67 74 75 77 79 80 82 84 85 88 89 90 91 92 95 96 97 100 104 105 109 110 111 113 114 115 117 118 120 121 122 123 124 127 128 129 130 131 132 133 136 137 138 139 140 141 142 143 146 147 148 149 150 151 152 153 154 155 156 157 158 159 160 161 162 164 165']\n",
      "db_id: DB00001\n",
      "['8', '11', '14', '36', '53', '54', '65', '67', '74', '75', '77', '79', '80', '82', '84', '85', '88', '89', '90', '91', '92', '95', '96', '97', '100', '104', '105', '109', '110', '111', '113', '114', '115', '117', '118', '120', '121', '122', '123', '124', '127', '128', '129', '130', '131', '132', '133', '136', '137', '138', '139', '140', '141', '142', '143', '146', '147', '148', '149', '150', '151', '152', '153', '154', '155', '156', '157', '158', '159', '160', '161', '162', '164', '165']\n",
      "scores: {128, 129, 130, 131, 132, 133, 8, 136, 137, 11, 138, 139, 14, 140, 141, 142, 143, 146, 147, 148, 149, 150, 151, 152, 153, 154, 155, 156, 157, 158, 159, 160, 161, 162, 36, 164, 165, 53, 54, 65, 67, 74, 75, 77, 79, 80, 82, 84, 85, 88, 89, 90, 91, 92, 95, 96, 97, 100, 104, 105, 109, 110, 111, 113, 114, 115, 117, 118, 120, 121, 122, 123, 124, 127}\n",
      "second numpy row: ['DB00006' 'Bivalirudin'\n",
      " '8 11 25 43 53 54 74 75 77 78 79 80 82 84 85 90 91 92 95 96 97 100 104 106 110 111 113 114 115 117 118 119 120 121 122 123 127 128 129 131 132 133 136 137 138 139 140 141 142 143 146 147 148 149 150 151 152 153 154 155 156 157 158 159 160 161 162 164 165']\n",
      "db_id: DB00006\n",
      "['8', '11', '25', '43', '53', '54', '74', '75', '77', '78', '79', '80', '82', '84', '85', '90', '91', '92', '95', '96', '97', '100', '104', '106', '110', '111', '113', '114', '115', '117', '118', '119', '120', '121', '122', '123', '127', '128', '129', '131', '132', '133', '136', '137', '138', '139', '140', '141', '142', '143', '146', '147', '148', '149', '150', '151', '152', '153', '154', '155', '156', '157', '158', '159', '160', '161', '162', '164', '165']\n",
      "scores: {128, 129, 131, 132, 133, 8, 136, 137, 11, 138, 139, 140, 141, 142, 143, 146, 147, 148, 149, 150, 151, 152, 25, 153, 154, 155, 156, 157, 158, 159, 160, 161, 162, 164, 165, 43, 53, 54, 74, 75, 77, 78, 79, 80, 82, 84, 85, 90, 91, 92, 95, 96, 97, 100, 104, 106, 110, 111, 113, 114, 115, 117, 118, 119, 120, 121, 122, 123, 127}\n",
      "0.810127\n"
     ]
    }
   ],
   "source": [
    "import pandas as pd\n",
    "import numpy as np\n",
    "\n",
    "df_drugs = pd.read_csv(\"data/drugs.csv\")\n",
    "print(df_drugs.head())\n",
    "df_numpy = df_drugs.to_numpy()\n",
    "print(\"first numpy row:\",df_numpy[0,:])\n",
    "print(\"db_id:\",df_numpy[0,:][0])\n",
    "print(df_numpy[0,:][2].split())\n",
    "score_a = set([int(x) for x in df_numpy[0,:][2].split()])\n",
    "print(\"scores:\",score_a)\n",
    "\n",
    "print(\"second numpy row:\",df_numpy[1,:])\n",
    "print(\"db_id:\",df_numpy[1,:][0])\n",
    "print(df_numpy[1,:][2].split())\n",
    "score_b = set([int(x) for x in df_numpy[1,:][2].split()])\n",
    "print(\"scores:\",score_b)\n",
    "\n",
    "\n",
    "def tanimoto(a,b):\n",
    "    #print(\"a intersection b:\",len(a.intersection(b)))\n",
    "    #print(\"a union b:\",len(a.union(b)))\n",
    "    return round(float(len(a.intersection(b)))/float(len(a.union(b))),6)\n",
    "\n",
    "print(tanimoto(score_a,score_b))\n",
    "#pairwise \n",
    "#[x >= y for i,x in enumerate(a) for j,y in enumerate(a) if i != j]"
   ]
  },
  {
   "cell_type": "code",
   "execution_count": 2,
   "metadata": {},
   "outputs": [
    {
     "name": "stdout",
     "output_type": "stream",
     "text": [
      "     db_id generic_name                                              maccs\n",
      "0  DB00001    Lepirudin  8 11 14 36 53 54 65 67 74 75 77 79 80 82 84 85...\n",
      "1  DB00006  Bivalirudin  8 11 25 43 53 54 74 75 77 78 79 80 82 84 85 90...\n",
      "2  DB00007   Leuprolide  8 11 25 43 53 54 65 74 75 77 78 79 80 82 84 85...\n",
      "3  DB00010   Sermorelin  25 43 53 54 74 77 78 79 80 82 84 88 89 90 91 9...\n",
      "4  DB00014    Goserelin  8 11 25 37 43 52 53 54 65 66 68 69 74 75 77 78...\n",
      "shape: (1068, 3)\n",
      "1068\n"
     ]
    }
   ],
   "source": [
    "drug_dict = {}\n",
    "df_drugs = pd.read_csv(\"data/drugs.csv\")\n",
    "print(df_drugs.head())\n",
    "df_numpy = df_drugs.to_numpy()\n",
    "print(\"shape:\",df_numpy.shape)\n",
    "for idx in range(0,df_numpy.shape[0]):\n",
    "    name = df_numpy[idx,:][0]\n",
    "    score = set([int(x) for x in df_numpy[idx,:][2].split()])\n",
    "    drug_dict[name] = score\n",
    "print(len(drug_dict))\n"
   ]
  },
  {
   "cell_type": "code",
   "execution_count": 16,
   "metadata": {},
   "outputs": [
    {
     "name": "stdout",
     "output_type": "stream",
     "text": [
      "{128, 129, 132, 136, 137, 139, 140, 141, 143, 146, 147, 149, 150, 152, 26, 154, 155, 157, 159, 160, 164, 165, 50, 57, 66, 74, 76, 83, 89, 91, 96, 99, 104, 108, 112, 114, 115, 116, 123, 126, 127}\n",
      "{128, 129, 132, 8, 137, 11, 139, 143, 144, 17, 147, 149, 150, 152, 26, 157, 159, 160, 161, 162, 164, 165, 50, 57, 65, 66, 71, 76, 90, 91, 94, 96, 97, 99, 102, 104, 105, 108, 112, 115, 116, 118, 120, 121, 124, 127}\n",
      "29 29\n",
      "0.5\n"
     ]
    }
   ],
   "source": [
    "print(drug_dict['DB00641'])\n",
    "print(drug_dict['DB01406'])\n",
    "a = drug_dict['DB00641']\n",
    "b = drug_dict['DB01406']\n",
    "print(len(a.intersection(b)),len(b.intersection(a)))\n",
    "print(len(a.intersection(b))/len(a.union(b)))"
   ]
  },
  {
   "cell_type": "code",
   "execution_count": 3,
   "metadata": {},
   "outputs": [],
   "source": [
    "#pairwise holds pairs and coefficients. (DBXXXXX,DBXXXXX,tc score)\n",
    "pairwise = [(x,y,tanimoto(drug_dict[x],drug_dict[y])) for i,x in enumerate(drug_dict.keys()) for j,y in enumerate(drug_dict.keys()) if i!=j ]"
   ]
  },
  {
   "cell_type": "code",
   "execution_count": 4,
   "metadata": {},
   "outputs": [
    {
     "name": "stdout",
     "output_type": "stream",
     "text": [
      "1139556\n"
     ]
    },
    {
     "data": {
      "text/plain": [
       "('DB00001', 'DB00006', 0.810127)"
      ]
     },
     "execution_count": 4,
     "metadata": {},
     "output_type": "execute_result"
    }
   ],
   "source": [
    "print(len(pairwise))\n",
    "pairwise[0]"
   ]
  },
  {
   "cell_type": "code",
   "execution_count": 5,
   "metadata": {},
   "outputs": [
    {
     "name": "stdout",
     "output_type": "stream",
     "text": [
      "0.810127\n",
      "1139556\n"
     ]
    }
   ],
   "source": [
    "#tc=dict, key=(DBXXXXX,DBXXXXX) value=tanimoto coefficient\n",
    "#why do we need this vs using pairwise? for fast lookup. \n",
    "#this is redundunat can also use outptu of tanimoto.py\n",
    "tc={}\n",
    "for idx in range(0,len(pairwise)):\n",
    "    tc[(pairwise[idx][0],pairwise[idx][1])]=pairwise[idx][2]\n",
    "print(tc[('DB00001', 'DB00006')])\n",
    "print(len(tc.keys()))"
   ]
  },
  {
   "cell_type": "code",
   "execution_count": 13,
   "metadata": {},
   "outputs": [
    {
     "name": "stdout",
     "output_type": "stream",
     "text": [
      "0.5\n"
     ]
    }
   ],
   "source": [
    "print(tc['DB00641','DB01406'])"
   ]
  },
  {
   "cell_type": "code",
   "execution_count": 32,
   "metadata": {},
   "outputs": [
    {
     "name": "stdout",
     "output_type": "stream",
     "text": [
      "{'P30518', 'P47901', 'P37288'}\n",
      "1044\n",
      "1044\n"
     ]
    }
   ],
   "source": [
    "def db_to_prot(filename):\n",
    "    df_targets = pd.read_csv(filename)\n",
    "    df_targets.head()\n",
    "    db_to_prot={}\n",
    "    for idx in range(0,df_targets.to_numpy().shape[0]):\n",
    "        drug = df_targets.to_numpy()[idx][0].strip()\n",
    "        protein = df_targets.to_numpy()[idx][1].strip()\n",
    "        #print(\"drug:\",drug,\" protein:\", protein)\n",
    "        if len(protein)==6:\n",
    "            if drug not in db_to_prot:\n",
    "                db_to_prot[drug] = set([protein])\n",
    "            else:\n",
    "                db_to_prot[drug].add(protein)\n",
    "    return db_to_prot\n",
    "\n",
    "dbtp = db_to_prot('data/targets.csv')\n",
    "print(dbtp['DB00067'])\n",
    "list_drugs = list(dbtp.keys())\n",
    "print(len(list_drugs))\n",
    "print(len(set(list_drugs)))"
   ]
  },
  {
   "cell_type": "code",
   "execution_count": 7,
   "metadata": {},
   "outputs": [
    {
     "name": "stdout",
     "output_type": "stream",
     "text": [
      "     db_id uniprot_accession uniprot_id\n",
      "0  DB00001            P00734       THRB\n",
      "1  DB00006            P00734       THRB\n",
      "2  DB00007            P30968      GNRHR\n",
      "3  DB00010            Q02643      GHRHR\n",
      "4  DB00014            P22888       LSHR\n",
      "3259\n",
      "{'DB00067', 'DB00035', 'DB02638'}\n"
     ]
    }
   ],
   "source": [
    "#dict key=DBxxx value=[] of targets/protein/ligand\n",
    "\n",
    "def prot_to_ligand(filename):\n",
    "    '''\n",
    "    input: targets.csv\n",
    "    output: dict key=protein, value=[list of drugs or ligands]\n",
    "    '''\n",
    "    df_targets = pd.read_csv(filename)\n",
    "    print(df_targets.head())\n",
    "    prot_to_drug={}\n",
    "    print(df_targets.to_numpy().shape[0])\n",
    "    for idx in range(0,df_targets.to_numpy().shape[0]):\n",
    "        drug = df_targets.to_numpy()[idx][0].strip()\n",
    "        protein = df_targets.to_numpy()[idx][1].strip()\n",
    "        #print(\"drug:\",drug,\" protein:\", protein)\n",
    "        if len(protein)==6:\n",
    "            if protein not in prot_to_drug:\n",
    "                prot_to_drug[protein] = set([drug])\n",
    "            else:\n",
    "                prot_to_drug[protein].add(drug)\n",
    "    return prot_to_drug\n",
    "            \n",
    "#print(len(set(prot)))\n",
    "#calculate 1099 protein similarities which is the sum of the Tc between molecules. \n",
    "\n",
    "prot_to_drug = prot_to_ligand(\"data/targets.csv\")\n",
    "print(prot_to_drug['P47901'])\n"
   ]
  },
  {
   "cell_type": "code",
   "execution_count": 8,
   "metadata": {},
   "outputs": [
    {
     "name": "stdout",
     "output_type": "stream",
     "text": [
      "1\n",
      "1\n",
      "0\n",
      "0\n"
     ]
    }
   ],
   "source": [
    "def shared_targets(db1,db2,dbtp):\n",
    "    if db1 in dbtp.keys():\n",
    "        target_db1 = dbtp[db1]\n",
    "    else:\n",
    "        target_db1=set([])\n",
    "        \n",
    "    if db2 in dbtp.keys():\n",
    "        target_db2 = dbtp[db2]\n",
    "    else:\n",
    "        target_db2 = set([])\n",
    "        \n",
    "    if len(target_db1.intersection(target_db2)) > 0:\n",
    "        return 1\n",
    "    return 0\n",
    "    \n",
    "\n",
    "print(shared_targets('DB00001','DB00001',dbtp))\n",
    "print(shared_targets('DB00001','DB00006',dbtp))\n",
    "print(shared_targets('DB00001','DB00014',dbtp))\n",
    "print(shared_targets('DB00001','DB00063',dbtp))\n"
   ]
  },
  {
   "cell_type": "code",
   "execution_count": null,
   "metadata": {},
   "outputs": [],
   "source": [
    "#write to csv all pairs, tc score, 1 if common target 0 if none\n",
    "#iterate through pairwise\n",
    "\n",
    "def write_tc(filename,pairwise,dbtp):\n",
    "    fh = open(filename,\"w\")\n",
    "    for idx in range(0,len(pairwise)):\n",
    "        first_db = pairwise[idx][0]\n",
    "        second_db = pairwise[idx][1]\n",
    "        tc_score = pairwise[idx][2]\n",
    "        fh.write(first_db+\",\"+second_db+\",\"+str(tc_score)+\",\"+str(shared_targets(first_db,second_db,dbtp))+\"\\n\")\n",
    "    fh.close()\n",
    "\n",
    "write_tc(\"tc.csv\",pairwise,dbtp)"
   ]
  },
  {
   "cell_type": "code",
   "execution_count": 9,
   "metadata": {},
   "outputs": [],
   "source": [
    "def get_Tc(a,b,tc):\n",
    "    if a==b:\n",
    "        return 1.\n",
    "    return tc[(a,b)]"
   ]
  },
  {
   "cell_type": "code",
   "execution_count": 10,
   "metadata": {},
   "outputs": [
    {
     "name": "stdout",
     "output_type": "stream",
     "text": [
      "1099\n",
      "<class 'dict_keys'>\n",
      "1206702\n",
      "('P00734', 'P30968')\n"
     ]
    }
   ],
   "source": [
    "#print(prot_to_drug.keys())\n",
    "print(len(prot_to_drug.keys()))\n",
    "print(type(prot_to_drug.keys()))\n",
    "prots = [(x,y) for i,x in enumerate(prot_to_drug.keys()) for j,y in enumerate(prot_to_drug.keys()) if i!=j]\n",
    "print(len(prots))\n",
    "print(prots[0])"
   ]
  },
  {
   "cell_type": "code",
   "execution_count": 17,
   "metadata": {},
   "outputs": [
    {
     "data": {
      "text/plain": [
       "14.049791999999998"
      ]
     },
     "execution_count": 17,
     "metadata": {},
     "output_type": "execute_result"
    }
   ],
   "source": [
    "def tsummary_AB(A,B,prot_to_drug,dbtp,tc):\n",
    "    '''\n",
    "    input: A,B uniprot id, prot_to_drug dict of prot to all drugs which have this protein as target, \n",
    "    dbtp: db to protein dictionary, tc tanimoto coeffieicnt of all db pairs\n",
    "    outptu: tsummary(A,B)\n",
    "    '''\n",
    "    db_A = prot_to_drug[A]\n",
    "    db_B = prot_to_drug[B]\n",
    "    a = list(db_A)\n",
    "    b = list(db_B)\n",
    "    #print(\"A:\",A, \" B:\",B,\"db_A:\",db_A,\" db_B:\",db_B, \" a:\",a,\" b:\",b)\n",
    "    sum_a_b=0.\n",
    "    #pairwise combination with idx,jdx; this is not as good as vectorized\n",
    "    #[tc(x,y) for i,x in enumerate(a) for j,y in enumerate(b) if tc(x,y)>0.5]\n",
    "    for idx in range(0,len(a)):\n",
    "        for jdx in range(0,len(b)):\n",
    "            tc_ab = get_Tc(a[idx],b[jdx],tc)\n",
    "            #print(\"tsummary idx:\",idx,\" jdx:\",jdx,\" a[idx]:\",a[idx],\" b[jdx]:\",b[jdx],\"tc:\",tc_ab)\n",
    "            if tc_ab > 0.5:\n",
    "                sum_a_b +=tc_ab\n",
    "    #print(\"t_summary summary:\",sum_a_b)\n",
    "    return sum_a_b\n",
    "\n",
    "A = prots[0][0]\n",
    "B = prots[0][1]\n",
    "\n",
    "tsummary_AB(A,B, prot_to_drug,dbtp,tc)\n"
   ]
  },
  {
   "cell_type": "code",
   "execution_count": 24,
   "metadata": {},
   "outputs": [
    {
     "name": "stdout",
     "output_type": "stream",
     "text": [
      "('P00734', 'P30968')\n",
      "('P00734', 'P30968')\n",
      "14.049791999999998\n",
      "14.049791999999998\n"
     ]
    }
   ],
   "source": [
    "def compute_allTs(prots,prot_to_drug,dbtp,tc):\n",
    "    ts={}\n",
    "    for idx in range(0,len(prots)):\n",
    "        A = prots[idx][0]\n",
    "        B = prots[idx][1]\n",
    "        t_AB = tsummary_AB(A,B, prot_to_drug,dbtp,tc)\n",
    "        ts[(A,B)] = t_AB\n",
    "    return ts\n",
    "\n",
    "ts = compute_allTs(prots,prot_to_drug,dbtp,tc)\n",
    "print(list(ts.keys())[0])\n",
    "print(prots[0])\n",
    "print(ts['P00734','P30968'])\n",
    "print(ts[prots[0]])"
   ]
  },
  {
   "cell_type": "code",
   "execution_count": 38,
   "metadata": {},
   "outputs": [
    {
     "name": "stdout",
     "output_type": "stream",
     "text": [
      "{'DB01406', 'DB00644', 'DB00106', 'DB00666', 'DB00050', 'DB00007'}\n"
     ]
    },
    {
     "data": {
      "text/plain": [
       "['DB01085', 'DB00454', 'DB04948', 'DB00939', 'DB00521', 'DB00606']"
      ]
     },
     "execution_count": 38,
     "metadata": {},
     "output_type": "execute_result"
    }
   ],
   "source": [
    "import random\n",
    "\n",
    "def get_ligandSet(A,list_drugs,prot_to_drug):\n",
    "    lenA = len(prot_to_drug[A])\n",
    "    #print(prot_to_drug[A])\n",
    "    samplewreplacement = []\n",
    "    for idx in range(0,lenA):\n",
    "        rand_idx = random.randint(0,len(list_drugs))\n",
    "        sample = list_drugs[rand_idx]\n",
    "        samplewreplacement.append(sample)\n",
    "    return samplewreplacement\n",
    "\n",
    "get_ligandSet('P30968',list_drugs,prot_to_drug)\n"
   ]
  },
  {
   "cell_type": "code",
   "execution_count": 85,
   "metadata": {},
   "outputs": [
    {
     "name": "stdout",
     "output_type": "stream",
     "text": [
      "{'DB00800', 'DB00714', 'DB01624', 'DB01038'}\n",
      "{'DB00484', 'DB06262', 'DB00696', 'DB00800', 'DB04840', 'DB01392', 'DB00217', 'DB00226', 'DB04948', 'DB01170', 'DB00368'}\n",
      "tb_total last loop: 1224.8955000000021  tb_total/N: 2.4497910000000043\n",
      "2.4497910000000043\n"
     ]
    }
   ],
   "source": [
    "def pvalue(A,B,prot_to_drug,list_drugs,drug_dict,dbtp,tc,N):\n",
    "    ligA = get_ligandSet(A,list_drugs,prot_to_drug)\n",
    "    ligB = get_ligandSet(B,list_drugs,prot_to_drug)\n",
    "    #print(\"ligA:\",ligA, \"ligB:\",ligB)\n",
    "    tb_total=0\n",
    "    for i in range(0,N):\n",
    "        tb_sum = 0\n",
    "        for idx in range(0,len(ligA)):\n",
    "            for jdx in range(0,len(ligB)):\n",
    "                #print(\"ligA:\",ligA[idx],\" ligB:\",ligB[jdx])\n",
    "                tb = tanimoto(drug_dict[ligA[idx]],drug_dict[ligB[jdx]])\n",
    "                #print(\"ligA:\",ligA[idx],\" ligB:\",ligB[jdx],\" tb:\",tb)\n",
    "                if tb > 0.5:\n",
    "                    tb_sum +=tb\n",
    "        #print(\"tb_sum:\",tb_sum,\" tb_total:\",tb_total)\n",
    "        tb_total += tb_sum\n",
    "    print(\"tb_total last loop:\",tb_total,\" tb_total/N:\",tb_total/N)\n",
    "    return tb_total/N\n",
    "    \n",
    "p  = pvalue('P21918','P18089',prot_to_drug,list_drugs,drug_dict,dbtp,tc,500)\n",
    "print(p)\n",
    "#pvalue of 0.05 means 500 times? 5 times? "
   ]
  },
  {
   "cell_type": "code",
   "execution_count": null,
   "metadata": {},
   "outputs": [],
   "source": []
  },
  {
   "cell_type": "code",
   "execution_count": null,
   "metadata": {},
   "outputs": [],
   "source": [
    "df_nodes = pd.read_csv(\"data/protein_nodes.csv\")\n",
    "df_nodes.head()"
   ]
  },
  {
   "cell_type": "code",
   "execution_count": null,
   "metadata": {},
   "outputs": [],
   "source": []
  }
 ],
 "metadata": {
  "kernelspec": {
   "display_name": "Python 3",
   "language": "python",
   "name": "python3"
  },
  "language_info": {
   "codemirror_mode": {
    "name": "ipython",
    "version": 3
   },
   "file_extension": ".py",
   "mimetype": "text/x-python",
   "name": "python",
   "nbconvert_exporter": "python",
   "pygments_lexer": "ipython3",
   "version": "3.6.9"
  }
 },
 "nbformat": 4,
 "nbformat_minor": 2
}
