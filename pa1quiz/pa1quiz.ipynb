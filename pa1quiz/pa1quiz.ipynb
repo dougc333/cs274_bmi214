{
 "cells": [
  {
   "cell_type": "markdown",
   "metadata": {},
   "source": [
    "<img src=\"images/pa1_quiz_1.png\" >\n",
    "<img src=\"images/pa1_quiz_2.png\" >\n",
    "<img src=\"images/pa1_quiz_3.png\" >\n",
    "<img src=\"images/pa1_quiz_4.png\" >\n",
    "<img src=\"images/pa1_quiz_5.png\" >\n",
    "<img src=\"images/pa1_quiz_6.png\" >\n",
    "<img src=\"images/pa1_quiz_7.png\" >\n",
    "<img src=\"images/pa1_quiz_8.png\" >\n",
    "<img src=\"images/pa1_quiz_9.png\" >\n",
    "<img src=\"images/pa1_quiz_10.png\" >\n",
    "<img src=\"images/pa1_quiz_11.png\" >\n",
    "<img src=\"images/pa1_quiz_12.png\" >\n",
    "<img src=\"images/pa1_quiz_13.png\" >\n",
    "<img src=\"images/pa1_quiz_14.png\" >\n",
    "<img src=\"images/pa1_quiz_15.png\" >\n",
    "<img src=\"images/pa1_quiz_16.png\" >\n",
    "<img src=\"images/pa1_quiz_17.png\" >\n",
    "<img src=\"images/pa1_quiz_18.png\" >\n",
    "<img src=\"images/pa1_quiz_19.png\" >\n",
    "<img src=\"images/pa1_quiz_20.png\" >\n",
    "<img src=\"images/pa1_quiz_21.png\" >\n",
    "<img src=\"images/pa1_quiz_22.png\" >\n",
    "<img src=\"images/pa1_quiz_23.png\" >\n",
    "<img src=\"images/pa1_quiz_24.png\" >\n",
    "<img src=\"images/pa1_quiz_25.png\" >\n",
    "<img src=\"images/pa1_quiz_26.png\" >\n",
    "<img src=\"images/pa1_quiz_27.png\" >\n",
    "<img src=\"images/pa1_quiz_28.png\" >\n",
    "<img src=\"images/pa1_quiz_29.png\" >\n",
    "<img src=\"images/pa1_quiz_30.png\" >\n",
    "<img src=\"images/pa1_quiz_31.png\" >\n",
    "<img src=\"images/pa1_quiz_32.png\" >\n",
    "<img src=\"images/pa1_quiz_33.png\" >\n",
    "<img src=\"images/pa1_quiz_34.png\" >\n",
    "<img src=\"images/pa1_quiz_36.png\" >\n",
    "<img src=\"images/pa1_quiz_37.png\" >\n",
    "<img src=\"images/pa1_quiz_38.png\" >\n",
    "<img src=\"images/pa1_quiz_39.png\" >"
   ]
  },
  {
   "cell_type": "markdown",
   "metadata": {},
   "source": []
  },
  {
   "cell_type": "code",
   "execution_count": null,
   "metadata": {},
   "outputs": [],
   "source": []
  }
 ],
 "metadata": {
  "kernelspec": {
   "display_name": "Python 3",
   "language": "python",
   "name": "python3"
  },
  "language_info": {
   "codemirror_mode": {
    "name": "ipython",
    "version": 3
   },
   "file_extension": ".py",
   "mimetype": "text/x-python",
   "name": "python",
   "nbconvert_exporter": "python",
   "pygments_lexer": "ipython3",
   "version": "3.7.3"
  }
 },
 "nbformat": 4,
 "nbformat_minor": 2
}
