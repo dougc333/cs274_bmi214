{
 "cells": [
  {
   "cell_type": "code",
   "execution_count": null,
   "metadata": {},
   "outputs": [],
   "source": [
    "<img src=\"images/pa1_quiz_1.png\" >\n",
    "<img src=\"images/pa1_quiz_2.png\" >\n",
    "<img src=\"images/pa1_quiz_3.png\" >\n",
    "<img src=\"images/pa1_quiz_4.png\" >\n",
    "<img src=\"images/pa1_quiz_5.png\" >\n",
    "<img src=\"images/pa1_quiz_6.png\" >\n",
    "<img src=\"images/pa1_quiz_7.png\" >\n",
    "<img src=\"images/pa1_quiz_8.png\" >\n",
    "<img src=\"images/pa1_quiz_9.png\" >"
   ]
  },
  {
   "cell_type": "code",
   "execution_count": null,
   "metadata": {},
   "outputs": [],
   "source": []
  }
 ],
 "metadata": {
  "kernelspec": {
   "display_name": "Python 3",
   "language": "python",
   "name": "python3"
  },
  "language_info": {
   "codemirror_mode": {
    "name": "ipython",
    "version": 3
   },
   "file_extension": ".py",
   "mimetype": "text/x-python",
   "name": "python",
   "nbconvert_exporter": "python",
   "pygments_lexer": "ipython3",
   "version": "3.7.3"
  }
 },
 "nbformat": 4,
 "nbformat_minor": 2
}
