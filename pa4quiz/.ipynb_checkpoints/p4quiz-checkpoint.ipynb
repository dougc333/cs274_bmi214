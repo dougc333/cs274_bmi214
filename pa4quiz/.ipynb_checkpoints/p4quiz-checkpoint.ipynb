{
 "cells": [
  {
   "cell_type": "markdown",
   "metadata": {},
   "source": [
    "drugs=ligand\n",
    "<img src=\"p4quiz_2.png\">\n",
    "c\n",
    "<img src=\"p4quiz_3.png\">\n",
    "Tc is similarity of drugs. Tsummary = summation of Tc between proteins, Tb=summary of Tx between random drugs. \n",
    "<img src=\"p4quiz_4.png\">\n",
    "2 protein sites since T(A,B) refer to proteins for A,B. and drug and dbs on a protein. \n",
    "<img src=\"p4quiz_5.png\">\n",
    "<img src=\"p4quiz_6.png\">\n",
    "<img src=\"p4quiz_7.png\">"
   ]
  },
  {
   "cell_type": "markdown",
   "metadata": {},
   "source": [
    "<img src=\"p4quiz_8.png\">\n",
    "<img src=\"p4quiz_9.png\">\n",
    "<img src=\"p4quiz_10.png\">\n",
    "<img src=\"p4quiz_11.png\">\n",
    "<img src=\"p4quiz_12.png\">\n",
    "<img src=\"p4quiz_13.png\">\n",
    "<img src=\"p4quiz_14.png\">"
   ]
  },
  {
   "cell_type": "code",
   "execution_count": null,
   "metadata": {},
   "outputs": [],
   "source": []
  }
 ],
 "metadata": {
  "kernelspec": {
   "display_name": "Python 3",
   "language": "python",
   "name": "python3"
  },
  "language_info": {
   "codemirror_mode": {
    "name": "ipython",
    "version": 3
   },
   "file_extension": ".py",
   "mimetype": "text/x-python",
   "name": "python",
   "nbconvert_exporter": "python",
   "pygments_lexer": "ipython3",
   "version": "3.7.3"
  }
 },
 "nbformat": 4,
 "nbformat_minor": 2
}
