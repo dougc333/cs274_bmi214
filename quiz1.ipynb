{
 "cells": [
  {
   "cell_type": "code",
   "execution_count": 45,
   "metadata": {},
   "outputs": [
    {
     "name": "stdout",
     "output_type": "stream",
     "text": [
      "<class 'pandas.core.indexes.base.Index'>\n",
      "Index(['winery\\tvariety'], dtype='object')\n",
      "<class 'pandas.core.indexes.range.RangeIndex'>\n",
      "RangeIndex(start=0, stop=687, step=1)\n",
      "<class 'numpy.ndarray'>\n",
      "('Pinot Noir', 66)\n",
      "[('Tempranillo-Merlot', 1), ('Frappato', 1), ('Viognier-Chardonnay', 1), ('Primitivo', 1), ('Catarratto', 1), ('Inzolia', 1), ('Petit Verdot', 1), ('Monica', 1), ('Grillo', 1), ('Aglianico', 1), ('Touriga Nacional', 1), ('Petit Manseng', 1), ('Rosato', 1), ('Vermentino', 1), ('Shiraz-Cabernet Sauvignon', 1), ('Graciano', 1), ('Tannat-Cabernet', 1), ('Sangiovese Grosso', 1), ('Torrontés', 1), ('Prugnolo Gentile', 1), ('Fumé Blanc', 1), ('Bonarda', 1), ('Montepulciano', 1), ('Ugni Blanc-Colombard', 1), ('Syrah-Viognier', 1), ('Blaufränkisch', 1), ('Friulano', 1), ('Assyrtico', 1), ('Carignan-Grenache', 1), ('Sagrantino', 1), ('Savagnin', 1), ('Cabernet Sauvignon-Syrah', 1), ('Vignoles', 1), ('Muscadelle', 1), ('Zierfandler', 1), ('Melon', 1), ('Rhône-style White Blend', 1), ('Vidal', 1), ('Verdelho', 1), ('Marsanne', 1), ('Scheurebe', 1), ('Kerner', 1), ('Syrah-Grenache', 1), ('Vilana', 1), ('Viura', 1), ('Garnacha Tintorera', 1), ('Pinot Nero', 1), ('Nerello Mascalese', 2), ('Tempranillo Blend', 2), ('Meritage', 2), ('Vernaccia', 2), ('G-S-M', 2), ('Verdejo', 2), ('Furmint', 2), ('Moscato', 2), ('Muscat', 2), ('Shiraz-Viognier', 2), ('Cortese', 2), ('Mencía', 2), ('Zweigelt', 2), ('Cannonau', 2), ('Dolcetto', 2), ('Glera', 2), (\"Nero d'Avola\", 3), ('Carmenère', 3), ('Albariño', 3), ('Viognier', 3), ('Grenache Blanc', 3), ('Pinot Blanc', 3), ('Alsace white blend', 3), ('Barbera', 3), ('Portuguese White', 3), ('Pinot Grigio', 3), ('Bordeaux-style White Blend', 4), ('Petite Sirah', 4), ('Sauvignon', 4), ('Pinot Bianco', 4), ('Garganega', 4), ('Grenache', 5), ('Tempranillo', 5), ('Chenin Blanc', 6), ('Shiraz', 6), ('Gamay', 7), ('Cabernet Franc', 7), ('Sparkling Blend', 7), ('Portuguese Red', 8), ('Rhône-style Red Blend', 8), ('Pinot Gris', 9), ('Gewürztraminer', 10), ('Grüner Veltliner', 10), ('Rosé', 11), ('Malbec', 14), ('Merlot', 14), ('Champagne Blend', 14), ('Zinfandel', 14), ('Sangiovese', 16), ('Nebbiolo', 17), ('Sauvignon Blanc', 18), ('Bordeaux-style Red Blend', 18), ('Syrah', 20), ('Prosecco', 20), ('White Blend', 26), ('Riesling', 37), ('Red Blend', 45), ('Chardonnay', 58), ('Cabernet Sauvignon', 62), ('Pinot Noir', 66)]\n"
     ]
    }
   ],
   "source": [
    "import pandas as pd\n",
    "from collections import Counter,defaultdict\n",
    "df = pd.read_csv('jacques_wines.tsv')\n",
    "\n",
    "#print(df.head())\n",
    "#print(df.count())\n",
    "#print(df.tail())\n",
    "#687 total rows\n",
    "#for cols in df.columns:\n",
    "#    print(cols)\n",
    "print(type(df.columns))\n",
    "print(df.columns)\n",
    "print(type(df.index))\n",
    "print(df.index)\n",
    "print(type(df.values))\n",
    "#print(df.values)\n",
    "list_varieties = []\n",
    "var = defaultdict(int)\n",
    "for x in df.values:\n",
    "    list_varieties.append(x[0].split('\\t')[1])\n",
    "    var[x[0].split('\\t')[1]] +=1\n",
    "list_varieties\n",
    "var\n",
    "print(max(var.items(),key=lambda x:x[1]))\n",
    "print(sorted(var.items(),key=lambda x:x[1]))\n"
   ]
  },
  {
   "cell_type": "markdown",
   "metadata": {},
   "source": [
    "<img src=\"quiz1/q1.png\">"
   ]
  },
  {
   "cell_type": "code",
   "execution_count": null,
   "metadata": {},
   "outputs": [],
   "source": []
  },
  {
   "cell_type": "markdown",
   "metadata": {},
   "source": [
    "<img src = \"quiz1/q2.png\" >"
   ]
  },
  {
   "cell_type": "code",
   "execution_count": null,
   "metadata": {},
   "outputs": [],
   "source": []
  },
  {
   "cell_type": "markdown",
   "metadata": {},
   "source": [
    "<img src = \"quiz1/q3a.png\" >\n",
    "<img src = \"quiz1/q3b.png\" >"
   ]
  },
  {
   "cell_type": "code",
   "execution_count": null,
   "metadata": {},
   "outputs": [],
   "source": []
  },
  {
   "cell_type": "markdown",
   "metadata": {},
   "source": [
    "<img src = \"quiz1/q4.png\" >"
   ]
  },
  {
   "cell_type": "code",
   "execution_count": null,
   "metadata": {},
   "outputs": [],
   "source": []
  },
  {
   "cell_type": "markdown",
   "metadata": {},
   "source": [
    "<img src = \"quiz1/q5a.png\" >\n",
    "<img src = \"quiz1/q5b.png\" >"
   ]
  },
  {
   "cell_type": "code",
   "execution_count": null,
   "metadata": {},
   "outputs": [],
   "source": [
    "Perera MA"
   ]
  },
  {
   "cell_type": "markdown",
   "metadata": {},
   "source": [
    "<img src = \"quiz1/q6.png\" >"
   ]
  },
  {
   "cell_type": "code",
   "execution_count": null,
   "metadata": {},
   "outputs": [],
   "source": [
    "Chromosome 16\n",
    "NC_000016.10"
   ]
  },
  {
   "cell_type": "markdown",
   "metadata": {},
   "source": [
    "<img src = \"quiz1/q7.png\" >"
   ]
  },
  {
   "cell_type": "code",
   "execution_count": null,
   "metadata": {},
   "outputs": [],
   "source": [
    "pestcide!"
   ]
  },
  {
   "cell_type": "markdown",
   "metadata": {},
   "source": [
    "<img src = \"quiz1/q8.png\" >"
   ]
  },
  {
   "cell_type": "code",
   "execution_count": null,
   "metadata": {},
   "outputs": [],
   "source": [
    "32\n",
    "rat, "
   ]
  },
  {
   "cell_type": "markdown",
   "metadata": {},
   "source": [
    "<img src = \"quiz1/q9.png\" >"
   ]
  },
  {
   "cell_type": "markdown",
   "metadata": {},
   "source": [
    "<img src = \"quiz1/q10a.png\" >\n",
    "<img src = \"quiz1/q10b.png\" >"
   ]
  },
  {
   "cell_type": "markdown",
   "metadata": {},
   "source": [
    "<img src = \"quiz1/q11.png\" >"
   ]
  },
  {
   "cell_type": "code",
   "execution_count": null,
   "metadata": {},
   "outputs": [],
   "source": []
  }
 ],
 "metadata": {
  "kernelspec": {
   "display_name": "Python 3",
   "language": "python",
   "name": "python3"
  },
  "language_info": {
   "codemirror_mode": {
    "name": "ipython",
    "version": 3
   },
   "file_extension": ".py",
   "mimetype": "text/x-python",
   "name": "python",
   "nbconvert_exporter": "python",
   "pygments_lexer": "ipython3",
   "version": "3.7.3"
  }
 },
 "nbformat": 4,
 "nbformat_minor": 2
}
