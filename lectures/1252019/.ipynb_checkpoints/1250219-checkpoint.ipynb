{
 "cells": [
  {
   "cell_type": "code",
   "execution_count": null,
   "metadata": {},
   "outputs": [],
   "source": [
    "<img src=\"12032019_01.png\">\n",
    "<img src=\"12032019_02.png\">\n",
    "<img src=\"12032019_03.png\">\n",
    "<img src=\"12032019_04.png\">\n",
    "<img src=\"12032019_05.png\">\n"
   ]
  },
  {
   "cell_type": "code",
   "execution_count": null,
   "metadata": {},
   "outputs": [],
   "source": [
    "<img src=\"12032019_06.png\">\n",
    "<img src=\"12032019_07.png\">\n",
    "<img src=\"12032019_08.png\">\n",
    "<img src=\"12032019_09.png\">\n",
    "<img src=\"12032019_10.png\">\n",
    "\n"
   ]
  },
  {
   "cell_type": "code",
   "execution_count": null,
   "metadata": {},
   "outputs": [],
   "source": [
    "<img src=\"12032019_11.png\">\n",
    "<img src=\"12032019_12.png\">\n",
    "<img src=\"12032019_13.png\">\n",
    "<img src=\"12032019_14.png\">\n",
    "<img src=\"12032019_15.png\">\n"
   ]
  },
  {
   "cell_type": "code",
   "execution_count": null,
   "metadata": {},
   "outputs": [],
   "source": [
    "<img src=\"12032019_16.png\">\n",
    "<img src=\"12032019_17.png\">\n",
    "<img src=\"12032019_18.png\">\n",
    "<img src=\"12032019_19.png\">\n"
   ]
  }
 ],
 "metadata": {
  "kernelspec": {
   "display_name": "Python 3",
   "language": "python",
   "name": "python3"
  },
  "language_info": {
   "codemirror_mode": {
    "name": "ipython",
    "version": 3
   },
   "file_extension": ".py",
   "mimetype": "text/x-python",
   "name": "python",
   "nbconvert_exporter": "python",
   "pygments_lexer": "ipython3",
   "version": "3.7.3"
  }
 },
 "nbformat": 4,
 "nbformat_minor": 2
}
