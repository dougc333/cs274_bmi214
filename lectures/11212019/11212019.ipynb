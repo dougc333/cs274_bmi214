{
 "cells": [
  {
   "cell_type": "markdown",
   "metadata": {},
   "source": [
    "<img src=\"11212019_01.png\">\n",
    "see all species on earth populating earth as NOW on the bottom line. NOW are ancestors derived from human bacterial fungal ancestor\n",
    "at the root.  \n",
    "through speciation events some were dead ends(where sad face is). Every now and then we find observable from dna in fossils. \n",
    "Very funny there are people taking wooly mammoths and trying to put them in elephant embryo after removing elephant dna, same\n",
    "w/sabertooth tiger. can do this if they are not far apart on phylogenic tree! Teh place where there is sad face is where\n",
    "evolution died and the species didnt survive. \n",
    "<img src=\"11212019_02.png\">\n",
    "this tree gives us 1) lineage of species AND 2) evoluton of funtion. If you can find a tree that shares a function Say eyeballs. Then this is a shared lineage.  \n",
    "If the subtree on the left had eyeballs\n",
    "denoted at e+ then you know the root node for these had eyeballs because that is the common ancestor. This is not \n",
    "the closest root node but all the way up until you find a species wo eyeballs. And if there\n",
    "are species wo eyeballs then you can ask did a group get eyeballs or lose them? how did eyeballs come about? Cna look at tree\n",
    "and see what you see in tree. 3) constraings on evolution. we talked about multiple sequence alignment thre is a duality\n",
    "between MSA and trees. There are MSA methonds where better tree then better the MSA. Darwin drew first evolution tree. \n",
    "<img src=\"11212019_2a.png\">\n",
    "<img src=\"11212019_03.png\">\n",
    "We talked earlier about teh duality between MSA and trees. If you want a good MSA you have to have a good tree. Was mentioned\n",
    "earlier. The algorithms he showed us were not sensitive to the tree. There are algorithms where the better the tree the \n",
    "better the alignment. Darwin created the first evolutionary tree (documented) which is character based. \n",
    "\n",
    "<img src=\"11212019_04.png\">\n",
    "trees useful for understanding infectious disease outbreaks! You can build a tree and find out who the oldest DNA is for \n",
    "disease outbreak and find patient 0. \n",
    "<img src=\"11212019_05.png\">\n",
    "can do same w/cancer cells. Said F=MA in molecular dynamics is the biggest loser to CPUs and the second loser is\n",
    "MLE in tree construction. \n",
    "<img src=\"11212019_06.png\">\n",
    "rooted and unrooted trees. rooted tree:you know who the ancestor is and you can draw the children. Unrooted has \n",
    "no ancestor, have not committed to who the ancestor is. You need more information to make a rooted tree vs. unrooted\n",
    "tree. Unrooted trees are equivalent in different pictures. \n",
    "<img src=\"11212019_07.png\">\n",
    "have to be careful which unrooted trees are equivalent. can switch BA but not BC. \n",
    "<img src=\"11212019_08.png\">\n",
    "distance based trees: build tree based on some distance measured between species. distance assumed to be teh time\n",
    "    since the divergence between the species. When building the tree your metric not time but maybe DNA similarity. \n",
    "    Can calibrate to absolute earth time using fossils. If you have a DNA distasnce of 42 and you find a fossil 2b y old\n",
    "    you can associate this to metdric and maybe label all the nodes in your tree. \n",
    "<img src=\"11212019_09.png\">\n",
    "have a matrix M and Tree T. mij is time of divergence i, j. For any i,j, this is the time since last common ancestor.\n",
    "Example: D and B have a common ancestor. Time is when that speciation event happened. Relation betweeen T and M such \n",
    "    that you get a rooted tree. \n",
    "<img src=\"11212019_10.png\">\n"
   ]
  },
  {
   "cell_type": "markdown",
   "metadata": {},
   "source": [
    "<img src=\"11212019_11.png\">\n",
    "<img src=\"11212019_12.png\">\n",
    "<img src=\"11212019_13.png\">\n",
    "if ultrametric then rooted tree. You can still have M which is compatible with tree and is not ultrametric and hence not rooted!!\n",
    "\n",
    "<img src=\"11212019_14.png\">\n",
    "additive matrix is when unrooted tree. not ultrametric. \n",
    "there is data which leads to rooted tree. Most data is unrooted bc we dont have enough data to fill in the matrix.\n",
    "<img src=\"11212019_15.png\">"
   ]
  },
  {
   "cell_type": "markdown",
   "metadata": {},
   "source": [
    " \n",
    "Molecular clock theory: rate of change in AA is constant over time. If you want to build a tree on phosofructokinase\n",
    "which is in yeast and many organisms which adds phosphat to fructose, (an acceepted mutation is a mutation whcih does\n",
    "not kill hte organizm). This rate may not really be true in specific species ie if PFK was in yeast vs in birds, the mutation\n",
    "rate for birds much higher htan for yeast becaseu bigger DNA hence higher probability of mutation. \n",
    "<img src=\"11212019_16.png\">\n",
    "<img src=\"11212019_17.png\">\n",
    "rate is k/2 because you are going backawards up tree. So you see 2 species with the same mutation rate till you get ot ancestor. \n",
    "which is k/2. Time T has passed one has certain number of mutaitons the other has the same number of mutations. \n",
    "as long as k is a small percentage of the total sequence. Tehree is a problem If you let too much time go on\n",
    "you may have the same position in A and B mutate so you are undercounting. The more sophisticated elgoritms look \n",
    "if A and B had mutations at same point individually. If in MSA you get multiple mismatches you can also undercount. \n",
    "hence this will only work on a set of sequences that arent too distantly related. \n",
    "<img src=\"11212019_18.png\">\n",
    "especailly true if k << len(A), len(B), if you take birds as in rapors to todays birds. If you sequence birds, count\n",
    "mutations and build a tree where and this goes back to divergence of birds from dinosaurs. Can get these rooted trees. \n",
    "All birds fall into ultrametric matrix or tree. So we should have good MSA. \n",
    "<img src=\"11212019_19.png\">"
   ]
  },
  {
   "cell_type": "code",
   "execution_count": null,
   "metadata": {},
   "outputs": [],
   "source": [
    "You dont have to assume k constatn for all proteins. Some proteins the rate of mutation is slower. this is good because k stays\n",
    "small and you can use it to build a tree, this is a more conserved protein. other proteins are rapidly mutating and if you go way back in time this si a problem where\n",
    "you get the multiple hit problem. LInus Pauling invented teh molecular clock theory! \n",
    "<img src=\"11212019_20.png\">\n",
    "choosing the right protein; has to be common across all leaves.  \n",
    "cant be conserved completely, need it to mutate. but cant mutate a lot because then you get double hit problem(between the children)\n",
    "often key parts of metabolism. \n"
   ]
  },
  {
   "cell_type": "markdown",
   "metadata": {},
   "source": [
    "character based trees: observable binary trait for organism. has eyes , has feathers, has a ceratin AA at certain position. \n",
    "has a gap in multiple alignment, has a particular bone; always set up so 1=hae trait, 0 dont have trait. assume the \n",
    "ancestor organism doesnt have any of the traits [0,0,0...0,0]. setup the traits so they acquire them over time, adding\n",
    "functionality because you can observe the features.  \n",
    "<img src=\"11212019_25.png\">\n",
    "traits are edges which means the trait was acquired. \n",
    "to build the tree; D is 4+3 away from root so it has 4 and 3 columsn w/1. B is 3 away. \n",
    "\n",
    "<img src=\"11212019_26.png\">\n",
    "<img src=\"11212019_27.png\">\n",
    "there are some things that have to be true in error checking teh data: 1) assume once traits acquired they are never lost\n",
    "    this is big assumption because we know of biological cases where taht is not the case. one example is we know fish that dont have\n",
    "    eyeballs. We think they descended from fish who had eyeballs. But these fish are at 12k fish so if you used eyeballs and looked at tehse\n",
    "    fish you would put them in wrong place cause there are alo bacteria and fungus wo eyeballs.  \n",
    "<img src=\"11212019_28.png\">\n",
    "because of the branching pattern this puts great constraints. If there is a 3-2 branch there is an assumption the \n",
    "descndatns of 3 will never acquire 2 as well because that would lead to a big ambiguity on how to build the tree. another\n",
    "way to say this is the traits only arise once. If you are building tree for fish, and you have a feature which puts it somewhere\n",
    "else then you dont use that feature. There rea features which evolve more than once in which case you have to throw it awsy. \n",
    "Characeter based trees are fast, like what darwin did. Distance based trees much slower. \n",
    "<img src=\"11212019_29.png\">\n",
    "<img src=\"11212019_30.png\">\n",
    "not clear how to define distnace matric which applies to all speices across kingdom of life. whereas for characdter based\n",
    "can easily find features or characters to segment organisms in kingdom of life. distance tree is easy to calibrate, character based\n",
    "trees hard to calibrate but larger range of applicability. \n",
    "<img src=\"11212019_31.png\">"
   ]
  },
  {
   "cell_type": "markdown",
   "metadata": {},
   "source": [
    "\n",
    "2 methods teh most commonly used with molecular data. maximum parsimony and MLE. parsimony means like occams razor\n",
    "doing in simplest way possible and minimum number of complexity. max parsimony is a tree that explains data with \n",
    "fewest number of mutations. this is specific to molecular biology. teh character based and distance based you can do before\n",
    "molecular bio era. conatruct all trees and pick one with fewest mutations. \n",
    "1) do a MSA, 2) for each position i in MSA do for each possible tree (unrooted tree) do count the min number of mutiaotin\n",
    "required to explain column/pos i in MSA. For each tree ,sum all potision and pick tree w/ min number. \n",
    "<img src=\"11212019_32.png\">\n",
    "if there are 4 leaves in unrooted tree then there are 3 possible trees. Have to test the symmetry to make sure these are \n",
    "the 3 unique trees. \n",
    "<img src=\"11212019_33.png\">\n",
    "DNA!! Why no T/C? if TC is in here leads to more mutations than necessary. ONly use the DNA in the alignment. \n",
    "<img src=\"11212019_34.png\">"
   ]
  },
  {
   "cell_type": "markdown",
   "metadata": {},
   "source": [
    "dont need to GA 2) because the AG in teh left cornder dominates the GA alignment. \n",
    "<img src=\"11212019_35.png\">\n",
    "1) take column and build tree, where we have 3 now. \n",
    "<img src=\"11212019_36.png\">\n",
    "Count the number of mutations. The first tree has mutation AG. f second tree \n",
    "The first tree ahs the same leaves, no mutation there. The second has mutation at leaves like third tree.  So choose\n",
    "tree 1 as teh winner bc it has the least number of mutations and is the most parsinimious. So for position i this first tree \n",
    "is the best. Then you have to go to all the other positions, i+1, i+2, etc, and get tree for each position. They may disagree. take all positiona and\n",
    "all trees and figure out the minimum????? this is unclear. \n",
    "<img src=\"11212019_37.png\">\n",
    "disadvantages; have to craete or test or enumerate a lot of trees. for this one column had to do 3 trees. Had 4 sequences. \n",
    "teh oterh thing people dont like is the rates and probabilities of mutations not considered. A-=T, A->T, A->G occur at different\n",
    "frequencies. chemically C,T are similar and A,G are similar. so similar mutations are more likely, C<->T and A<->G.\n",
    "C-T called pyrmidines, and A-G called purines. These are more common than going from C-A, C-G, T-A, T-G wihch are dissimilar. Every \n",
    "mutation considered equally likely. If you wanted to weight these based on these probs then Maz parsinomy doesnt help you. \n",
    "<img src=\"11212019_38.png\">\n",
    "highly variable columns dominate. \n",
    "<img src=\"11212019_39.png\">\n",
    "highly changeing columns would have a score or range from 5-20 in the trees of say 20 position column. This has a bigger \n",
    "score than the column wohich has a difference of 1. The highly variable column dominates. Where is this in hte algo \n",
    "<img src=\"11212019_40.png\">\n",
    "philip is MLE. "
   ]
  },
  {
   "cell_type": "code",
   "execution_count": null,
   "metadata": {},
   "outputs": [],
   "source": [
    "MLE as improvement it uses the probabilities of DNA change and it doesnt allow the highly variable column to dominate. VERIFY \n",
    "THE HIGH VARYING COLUM DOMINATES BC WE PICK THE MIN NUTTAION PER COLUMN> but worse problem in number of trees. many more trees. \n",
    "<img src=\"11212019_41.png\">\n",
    " \n",
    "<img src=\"11212019_42.png\">\n",
    "<img src=\"11212019_43.png\">\n",
    "<img src=\"11212019_44.png\">\n",
    "<img src=\"11212019_45.png\">\n",
    "<img src=\"11212019_46.png\">\n"
   ]
  },
  {
   "cell_type": "code",
   "execution_count": null,
   "metadata": {},
   "outputs": [],
   "source": [
    "<img src=\"11212019_47.png\">\n",
    "<img src=\"11212019_48.png\">\n",
    "<img src=\"11212019_49.png\">\n",
    "<img src=\"11212019_50.png\">\n"
   ]
  }
 ],
 "metadata": {
  "kernelspec": {
   "display_name": "Python 3",
   "language": "python",
   "name": "python3"
  },
  "language_info": {
   "codemirror_mode": {
    "name": "ipython",
    "version": 3
   },
   "file_extension": ".py",
   "mimetype": "text/x-python",
   "name": "python",
   "nbconvert_exporter": "python",
   "pygments_lexer": "ipython3",
   "version": "3.6.9"
  }
 },
 "nbformat": 4,
 "nbformat_minor": 2
}
