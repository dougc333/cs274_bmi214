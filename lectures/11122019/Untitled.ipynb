{
 "cells": [
  {
   "cell_type": "code",
   "execution_count": null,
   "metadata": {},
   "outputs": [],
   "source": [
    "for GWAS review SNPs about 1m per human genome divided by distribtion to chromosome. Teh graph shows -log(p) in association\n",
    "with the disease.  SNP has 2 alleles, \n",
    "<p></p>\n",
    "A is 90% of chromsomes and T is 10% of chomsomes frequency \n",
    "so AA is .9*.9 =.81 of people, \n",
    "<p></p>\n",
    "A/T=T/A, frequency is .1, 2*(.1)*(.9)=.18 or 18%.\n",
    "<p></p>\n",
    "TT = .1*.1=1% of people\n",
    "<p></p>\n",
    "If the SNPs are affecting the people then these percentages are off. Example: teh minor allele is T. if you see \n",
    "    a 5% T in the population w/the disease then that is huge, that is a 500x over .1% at random. If you want to calcualte\n",
    "    a p value sum up the T frequency/N where Tfreq is some support number >0.1 say 0.2 to make it larger than random. \n",
    "    sum(number of times Tf>0.2)/N = pvalue. Wow very exciting. 11\n",
    "<img src=\"11122019_01.png\">\n",
    "<img src=\"11122019_02.png\">\n",
    "<img src=\"11122019_03.png\">\n",
    "<img src=\"11122019_04.png\">\n",
    "<img src=\"11122019_05.png\">\n",
    "<img src=\"11122019_06.png\">\n"
   ]
  },
  {
   "cell_type": "code",
   "execution_count": null,
   "metadata": {},
   "outputs": [],
   "source": [
    "<img src=\"11122019_07.png\">\n",
    "<img src=\"11122019_08.png\">\n",
    "<img src=\"11122019_09.png\">\n"
   ]
  },
  {
   "cell_type": "code",
   "execution_count": null,
   "metadata": {},
   "outputs": [],
   "source": [
    "<img src=\"11122019_10.png\">\n",
    "<img src=\"11122019_11.png\">\n",
    "<img src=\"11122019_12.png\">\n",
    "<img src=\"11122019_13.png\">\n",
    "<img src=\"11122019_14.png\">\n",
    "<img src=\"11122019_15.png\">\n"
   ]
  }
 ],
 "metadata": {
  "kernelspec": {
   "display_name": "Python 3",
   "language": "python",
   "name": "python3"
  },
  "language_info": {
   "codemirror_mode": {
    "name": "ipython",
    "version": 3
   },
   "file_extension": ".py",
   "mimetype": "text/x-python",
   "name": "python",
   "nbconvert_exporter": "python",
   "pygments_lexer": "ipython3",
   "version": "3.6.9"
  }
 },
 "nbformat": 4,
 "nbformat_minor": 2
}
