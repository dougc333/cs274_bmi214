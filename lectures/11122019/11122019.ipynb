{
 "cells": [
  {
   "cell_type": "markdown",
   "metadata": {},
   "source": [
    "A gene from 1 parent and an allele is a variant of that same gene from another parent. \n",
    "<img src=\"gene01.png\">\n"
   ]
  },
  {
   "cell_type": "code",
   "execution_count": null,
   "metadata": {},
   "outputs": [],
   "source": [
    "\n",
    "<img src=\"11122019_01.png\">\n",
    "for GWAS review SNPs about 1m per human genome divided by distribtion to chromosome. Teh graph shows -log(p) in association\n",
    "with the disease.  SNP has 2 alleles, \n",
    "<p>For this example show p=500. </p>\n",
    "For GWAS graph is SNPs on x axis on y axis is -log(pvalue) of how significant the SNP is to a disease. How do you \n",
    "caluculate this association? \n",
    "<p></p>\n",
    "A is 90% of chromsomes and T is 10% of chomsomes frequency \n",
    "so AA is .9*.9 =.81 of people, \n",
    "<p></p>\n",
    "A/T=T/A, frequency is .1, 2*(.1)*(.9)=.18 or 18%.\n",
    "<p></p>\n",
    "TT = .1*.1=1% of people\n",
    "<p></p>\n",
    "If the SNPs are affecting the people then these percentages are off. Example: teh minor allele is T. if you see \n",
    "a 5% T in the population w/the disease then that is huge, that is a 500x over .1% at random. If you want to calcualte\n",
    "a p value sum up the T frequency/N where Tfreq is some support number >0.1 say 0.2 to make it larger than random. \n",
    "sum(number of times Tf>0.2)/N = pvalue. Wow very exciting. The .2 value which is bigger than .1 percentage of T has\n",
    "to be determined by a chi or fisher test.  \n",
    "Use chi square or fisher exact test to look at numbers in boxes and compare w/expectation. Teh manhattan plot\n",
    "will show something not significat. Looking for snps that are above bonferroni. Other dots are linkage disequilibrium.\n",
    "Correlated wtih other SNPs. The disease and not disease if there is no association of the SNP to the disease this\n",
    "will be the same frequency as the baseline which we did above, all 6 cells would be same. \n",
    ".9, .18, .01 first row, and second row are identical. If there is a disease then the frequency of the allele\n",
    "T should be higher. The way the table works is if T is more in frequency or A is less in frequency put the numbers\n",
    "in the +freq for Dz or -freq for disease. Dont understand teh table. Use this to compare w/T significant value. The p value is \n",
    "calculated for each trial (is this each patient control and non control) we see if the SNP is greater than the T value then\n",
    "we add to pvalue. \n",
    "<p></p>\n",
    "these are 3 hits in the manhattan plot which is a scatterplot shown with the y axis -log(p) and the xaxis SNPs.  \n",
    "You have genes in these 3 chromosomes. Bonferroni is very strict so there may be positive which \n",
    "are thrown out which he draws ad 4 dots under teh 7-8 bonferroni line. You are worried about SNPS near bonferroni\n",
    "which may be important. Use fisher or chi test compare teh numbers in teh bo\n",
    "<img src=\"11122019_02.png\">\n",
    "Manhattan plot: you plot the log(p) where p is pvalue in his lecture but is frequency\n",
    "on the internet per 1m SNPs in human genome. Bonferroni is at 10-7 or 10-8 adjusted pvalue because you are testing\n",
    "1M SNPs, 10^6. You have combinations of alleles in SNPs, why is htis 100x more? because of p-value. .05 pvalue\n",
    "times 10-6 gives value between 10-7 and 10-8. depends on pvalue you want. \n",
    "<img src=\"11122019_03.png\">\n",
    "<img src=\"11122019_04.png\">\n",
    "<img src=\"11122019_05.png\">\n",
    "<img src=\"11122019_06.png\">\n"
   ]
  },
  {
   "cell_type": "markdown",
   "metadata": {},
   "source": [
    "<img src=\"11122019_07.png\">\n",
    "<img src=\"11122019_08.png\">\n",
    "<img src=\"11122019_09.png\">\n"
   ]
  },
  {
   "cell_type": "markdown",
   "metadata": {},
   "source": [
    "<img src=\"11122019_10.png\">\n",
    "<img src=\"11122019_11.png\">\n",
    "<img src=\"11122019_12.png\">\n",
    "<img src=\"11122019_13.png\">\n",
    "<img src=\"11122019_14.png\">\n",
    "<img src=\"11122019_15.png\">\n"
   ]
  },
  {
   "cell_type": "code",
   "execution_count": null,
   "metadata": {},
   "outputs": [],
   "source": []
  }
 ],
 "metadata": {
  "kernelspec": {
   "display_name": "Python 3",
   "language": "python",
   "name": "python3"
  },
  "language_info": {
   "codemirror_mode": {
    "name": "ipython",
    "version": 3
   },
   "file_extension": ".py",
   "mimetype": "text/x-python",
   "name": "python",
   "nbconvert_exporter": "python",
   "pygments_lexer": "ipython3",
   "version": "3.7.3"
  }
 },
 "nbformat": 4,
 "nbformat_minor": 2
}
