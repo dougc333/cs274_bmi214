{
 "cells": [
  {
   "cell_type": "markdown",
   "metadata": {},
   "source": [
    "<img src=\"11152019_01.png\">\n",
    "turns out the sampling approach for p3 is not state of the art. \n",
    "was consistent winner up to 10y ago. \n",
    "<p></p>\n",
    "MCMC sampling not great for large proteins \n",
    "<p></p>\n",
    "because the serach space is longer. You have to have good fragments. The input proteins\n",
    "when we do the blast search we need close to native structure. \n",
    "<p></p>\n",
    "For common proteins this works this doesnt actually model the way proteins fold. \n",
    "<p></p>\n",
    "Levinthal said it would\n",
    "take more than the age of the universe to fold proteins using the sample state approach.Real life\n",
    "doesnt use conformational sampling \n",
    "<p></p>\n",
    "Visualization is folding funnel; why proteins fold so fast, combination\n",
    "of different local interactions and entropy. The jagged edges represent local\n",
    "minima. We dont have way of modeling entropy. \n",
    "<img src=\"11152019_02.png\">\n",
    "second approach we talked about is coevolution. This is predominant structure\n",
    "prediction since 2011. Coevolution use alignment MSA of protein familiy and look \n",
    "at every position and find conserved column. and make inference where ther is contact in 3d space. \n",
    "marks in evfold used these predicted contacts as samples. accutate and\n",
    "more computationally efficent than rosetta. need to predict 30% for this to \n",
    "work well. This is binary is it a contact or not contact? Sstill requires molecular dynamics\n",
    "or rosetta simulation. Doesnt give you distance. Still requires homology info or MSA, so if you \n",
    "dont have protein family w MSA this method doesnt work. \n",
    "<img src=\"11152019_02.png\">\n",
    "<img src=\"11152019_03.png\">\n",
    "<img src=\"11152019_04.png\">\n",
    "contact map in 3d can be used for ML. representations of distances between AA. \n",
    "can we predict entire contact map? the past work predicted sections and you couldnt predict entire structure\n",
    "<img src=\"11152019_05.png\">\n",
    "DL models. \n",
    "\n",
    "\n",
    "\n",
    "\n"
   ]
  },
  {
   "cell_type": "markdown",
   "metadata": {},
   "source": [
    "<img src=\"11152019_06.png\">\n",
    "<img src=\"11152019_07.png\">\n",
    "<img src=\"11152019_08.png\">\n",
    "<img src=\"11152019_09.png\">\n"
   ]
  },
  {
   "cell_type": "markdown",
   "metadata": {},
   "source": [
    "<img src=\"11152019_10.png\">\n",
    "<img src=\"11152019_11.png\">\n",
    "<img src=\"11152019_12.png\">\n",
    "<img src=\"11152019_13.png\">\n",
    "<img src=\"11152019_14.png\">\n",
    "<img src=\"11152019_15.png\">\n"
   ]
  },
  {
   "cell_type": "markdown",
   "metadata": {},
   "source": [
    "<img src=\"11152019_16.png\">\n",
    "<img src=\"11152019_17.png\">\n",
    "<img src=\"11152019_18.png\">\n",
    "<img src=\"11152019_19.png\">\n",
    "<img src=\"11152019_20.png\">\n"
   ]
  },
  {
   "cell_type": "markdown",
   "metadata": {},
   "source": [
    "<img src=\"11152019_21.png\">\n",
    "<img src=\"11152019_22.png\">\n",
    "<img src=\"11152019_23.png\">\n",
    "<img src=\"11152019_24.png\">\n",
    "<img src=\"11152019_25.png\">\n"
   ]
  },
  {
   "cell_type": "markdown",
   "metadata": {},
   "source": [
    "<img src=\"11152019_26.png\">\n",
    "<img src=\"11152019_27.png\">\n",
    "<img src=\"11152019_28.png\">\n",
    "<img src=\"11152019_29.png\">\n"
   ]
  },
  {
   "cell_type": "markdown",
   "metadata": {},
   "source": [
    "<img src=\"11152019_30.png\">\n",
    "<img src=\"11152019_31.png\">\n",
    "<img src=\"11152019_32.png\">\n",
    "<img src=\"11152019_33.png\">\n",
    "<img src=\"11152019_34.png\">\n",
    "<img src=\"11152019_35.png\">\n"
   ]
  },
  {
   "cell_type": "markdown",
   "metadata": {},
   "source": [
    "<img src=\"11152019_36.png\">\n",
    "<img src=\"11152019_37.png\">\n",
    "<img src=\"11152019_38.png\">\n",
    "<img src=\"11152019_39.png\">\n",
    "<img src=\"11152019_40.png\">\n",
    "<img src=\"11152019_41.png\">"
   ]
  },
  {
   "cell_type": "markdown",
   "metadata": {},
   "source": [
    "<img src=\"11152019_42.png\">\n",
    "<img src=\"11152019_43.png\">\n",
    "<img src=\"11152019_44.png\">\n"
   ]
  },
  {
   "cell_type": "code",
   "execution_count": null,
   "metadata": {},
   "outputs": [],
   "source": []
  }
 ],
 "metadata": {
  "kernelspec": {
   "display_name": "Python 3",
   "language": "python",
   "name": "python3"
  },
  "language_info": {
   "codemirror_mode": {
    "name": "ipython",
    "version": 3
   },
   "file_extension": ".py",
   "mimetype": "text/x-python",
   "name": "python",
   "nbconvert_exporter": "python",
   "pygments_lexer": "ipython3",
   "version": "3.7.3"
  }
 },
 "nbformat": 4,
 "nbformat_minor": 2
}
