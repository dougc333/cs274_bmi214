{
 "cells": [
  {
   "cell_type": "code",
   "execution_count": null,
   "metadata": {},
   "outputs": [],
   "source": [
    "<img src=\"11142019_01.png\">\n",
    "<img src=\"11142019_02.png\">\n",
    "<img src=\"11142019_03.png\">\n",
    "<img src=\"11142019_04.png\">\n",
    "<img src=\"11142019_05.png\">\n",
    "\n"
   ]
  },
  {
   "cell_type": "code",
   "execution_count": null,
   "metadata": {},
   "outputs": [],
   "source": [
    "<img src=\"11142019_06.png\">\n",
    "<img src=\"11142019_07.png\">\n",
    "<img src=\"11142019_08.png\">\n",
    "<img src=\"11142019_09.png\">"
   ]
  },
  {
   "cell_type": "code",
   "execution_count": null,
   "metadata": {},
   "outputs": [],
   "source": [
    "<img src=\"11142019_10.png\">\n",
    "<img src=\"11142019_11.png\">\n",
    "<img src=\"11142019_12.png\">\n",
    "<img src=\"11142019_13.png\">\n",
    "<img src=\"11142019_14.png\">\n",
    "<img src=\"11142019_15.png\">\n"
   ]
  }
 ],
 "metadata": {
  "kernelspec": {
   "display_name": "Python 3",
   "language": "python",
   "name": "python3"
  },
  "language_info": {
   "codemirror_mode": {
    "name": "ipython",
    "version": 3
   },
   "file_extension": ".py",
   "mimetype": "text/x-python",
   "name": "python",
   "nbconvert_exporter": "python",
   "pygments_lexer": "ipython3",
   "version": "3.6.9"
  }
 },
 "nbformat": 4,
 "nbformat_minor": 2
}
