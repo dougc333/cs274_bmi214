{
 "cells": [
  {
   "cell_type": "markdown",
   "metadata": {},
   "source": [
    "<p>Finish 3d structure prediction. </p>\n",
    "<p>THen go into how human genome varies.</p> \n",
    "<p>CASP in XX. Homology modeling, where you align the 1d sequence with the PDB and for aligned\n",
    "columns you align c-alpha, if the AA are same you copy from db, if different you pick most likely side chain conformation\n",
    "from databaase and put c-alpha of L in same place as V. If insertion or deletion. If insertion, \n",
    "\n",
    "Fold recognition. 2 methods for fold recognition, dynamic programming in environments \n",
    "and contact potentials where AA have contact and repulsion.  </p>\n",
    "<img src=\"11072019_01.png\">\n",
    "rosetta beat some fold recogntion methods. a review of casp. first do an alignment and \n",
    "on where the they are aligned start with the c-alpha at those same positions if the AA is the same. \n",
    "If not the same put c-alpha in same positoin but place side chains xxx. \n",
    "<img src=\"11072019_02.png\">\n",
    "<img src=\"11072019_03.png\">\n",
    "<img src=\"11072019_04.png\">\n",
    "<img src=\"11072019_05.png\">\n",
    "<img src=\"11072019_06.png\">\n",
    "<img src=\"11072019_07.png\">\n",
    "<img src=\"11072019_08.png\">\n",
    "<img src=\"11072019_10.png\">\n",
    "<img src=\"11072019_11.png\">\n",
    "fake rosetta energy function, starts to look a lot like the energy function in the moleculr dynamics \n",
    "lecture. not identical.  cluster using hierarchial clustering from structal. Below doesnt work for membrane proteins. This is true\n",
    "for globular proteins not true for membrane proteins which have burial. We cover burial later for membrane potentials. We\n",
    "can also modify this energy function to account for coevolution by enforcing the conserved columns in the SEQ database. \n",
    "<img src=\"11072019_09.png\">\n",
    "<img src=\"11072019_09a.png\">\n",
    "\n",
    "\n",
    "\n"
   ]
  },
  {
   "cell_type": "markdown",
   "metadata": {},
   "source": [
    "Coevolution where 2 places i and j are close together in 3d space but far apart in a linear sequence. How to use\n",
    "coevolution for P\\rotein structure prediction. When you have a 3d structure there are homologs in the seq db. \n",
    "From contact potentials certain AA need to be close to each other. D and K. Homologs will always have i and j close together\n",
    "for homologs they have to solve this problem. There is some variation of how they can solve this problem, D and K or K and D in sequence. \n",
    "Or there are other pairs hydrophobic. it means in an analysis of a multiple columns in an alignment the columns ae not\n",
    "indepndent. SOME DISTANT COLUMNS in a MSA have linekd variation. \n",
    "<img src=\"11072019_12.png\">\n",
    "If we can reliably detect covariation we can get better. They use Mutual information, sum over all AA =(20) is a version\n",
    "of expected over observed. Higher MI means they coevolved together (distant columns) because they vary together. DIisadvantages:\n",
    "    large search space, multiple columns can affect, may not be limited to 2 columns. MI for multiple columns not easily calculated. \n",
    "<img src=\"11072019_13.png\">\n",
    "another way to see this is the disstribution of K in the column is not random. You have covariation amongst 3 positions in i, j, k. There\n",
    "are Covariation(i,j) and covariation (j,k) and covariation(i,k). Like correlation if ab correlated and bc correlated than infer ac correlated. \n",
    "The problem is how to find the primary covariation. \n",
    "<img src=\"11072019_14.png\">\n",
    "Limitations: requres good alignment of homologs. Advantage: have more sequences than protein structues(150k). more coevolution \n",
    "        data than protien structures we can use for supervised prediction. \n",
    "<img src=\"11072019_15.png\">\n"
   ]
  },
  {
   "cell_type": "markdown",
   "metadata": {},
   "source": [
    "Human Genome: SNP is a substitution at DNA level. why called SNP single nucleotide polymorphism and not single \n",
    "nucleotide mutation? cause the mutation happened recently and is considered an error. PArents both have G and you have T\n",
    "so you are off. Also a polymorphosm is present in a large part of the population >1% or above. mutation is rare event. \n",
    "<1%. Most SNPs are based on a mutation teh allele from when couple hundred thousand people and it shows u in your DNA. \n",
    "<img src=\"11072019_16.png\">\n",
    "structural changes in DNA, genes can be transposed or reversed(inversion). \n",
    "<img src=\"11072019_17.png\">\n",
    "where SNPs come from. Cave man era: when there were a couple hundred thousand people there was a mutation which \n",
    "survived. That mutation becomes a SNP because that is how you get >1%. \n",
    "<img src=\"11072019_18.png\">\n",
    "<img src=\"11072019_19.png\">\n",
    "if recombination split between i and j you get reduced correlatoin. The correlation between i j is called linkage disequilibrium\n",
    "<img src=\"11072019_20.png\">\n",
    "\n"
   ]
  },
  {
   "cell_type": "markdown",
   "metadata": {},
   "source": [
    "<img src=\"11072019_21.png\">\n",
    "<img src=\"11072019_22.png\">\n",
    "<img src=\"11072019_23.png\">\n",
    "<img src=\"11072019_24.png\">\n",
    "he uses pvalue .01 * 1*10-6 to get 10-8. or pvalue .1 to get 10-7. We use .05 then the number should be halfway between\n",
    "those. \n",
    "<img src=\"11072019_25.png\">"
   ]
  }
 ],
 "metadata": {
  "kernelspec": {
   "display_name": "Python 3",
   "language": "python",
   "name": "python3"
  },
  "language_info": {
   "codemirror_mode": {
    "name": "ipython",
    "version": 3
   },
   "file_extension": ".py",
   "mimetype": "text/x-python",
   "name": "python",
   "nbconvert_exporter": "python",
   "pygments_lexer": "ipython3",
   "version": "3.7.3"
  }
 },
 "nbformat": 4,
 "nbformat_minor": 2
}
