{
 "cells": [
  {
   "cell_type": "code",
   "execution_count": null,
   "metadata": {},
   "outputs": [],
   "source": [
    "<p>Finish 3d structure prediction. </p>\n",
    "<p>THen go into how human genome varies.</p> \n",
    "<p>CASP in XX. Homology modeling, where you align the 1d sequence with the PDB and for aligned\n",
    "columns you align c-alpha, if the AA are same you copy from db, if different you pick most likely side chain conformation\n",
    "from databaase and put c-alpha of L in same place as V. If insertion or deletion. If insertion, \n",
    "\n",
    "Fold recognition. 2 methods for fold recognition, dynamic programming in environments \n",
    "and contact potentials where AA have contact and repulsion.  </p>\n",
    "<img src=\"11072019_01.png\">\n",
    "rosetta beat some fold recogntion methods. a review of casp. first do an alignment and \n",
    "on where the they are aligned start with the c-alpha at those same positions if the AA is the same. \n",
    "If not the same put c-alpha in same positoin but place side chains xxx. \n",
    "<img src=\"11072019_02.png\">\n",
    "<img src=\"11072019_03.png\">\n",
    "<img src=\"11072019_04.png\">\n",
    "<img src=\"11072019_05.png\">\n",
    "<img src=\"11072019_06.png\">\n",
    "<img src=\"11072019_07.png\">\n",
    "<img src=\"11072019_08.png\">\n",
    "roseta energy function, starts to look a lot like the energy function in the moleculr dynamics \n",
    "lecture. not identical. cluster using hierarchial clustering from structall. \n",
    "<img src\"11072019_09.png\">\n",
    "\n",
    "\n",
    "\n",
    "\n"
   ]
  },
  {
   "cell_type": "code",
   "execution_count": null,
   "metadata": {},
   "outputs": [],
   "source": [
    "<img src\"11072019_10.png\">\n",
    "<img src\"11072019_11.png\">\n",
    "<img src\"11072019_12.png\">\n",
    "<img src\"11072019_13.png\">\n",
    "<img src\"11072019_14.png\">\n",
    "<img src\"11072019_15.png\">\n"
   ]
  }
 ],
 "metadata": {
  "kernelspec": {
   "display_name": "Python 3",
   "language": "python",
   "name": "python3"
  },
  "language_info": {
   "codemirror_mode": {
    "name": "ipython",
    "version": 3
   },
   "file_extension": ".py",
   "mimetype": "text/x-python",
   "name": "python",
   "nbconvert_exporter": "python",
   "pygments_lexer": "ipython3",
   "version": "3.6.9"
  }
 },
 "nbformat": 4,
 "nbformat_minor": 2
}
